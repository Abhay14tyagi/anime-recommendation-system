{
 "cells": [
  {
   "cell_type": "code",
   "execution_count": 1,
   "id": "1e852fe0",
   "metadata": {
    "_cell_guid": "b1076dfc-b9ad-4769-8c92-a6c4dae69d19",
    "_uuid": "8f2839f25d086af736a60e9eeb907d3b93b6e0e5",
    "execution": {
     "iopub.execute_input": "2023-07-26T19:55:58.908820Z",
     "iopub.status.busy": "2023-07-26T19:55:58.908404Z",
     "iopub.status.idle": "2023-07-26T19:56:00.158544Z",
     "shell.execute_reply": "2023-07-26T19:56:00.157181Z"
    },
    "papermill": {
     "duration": 1.260096,
     "end_time": "2023-07-26T19:56:00.161202",
     "exception": false,
     "start_time": "2023-07-26T19:55:58.901106",
     "status": "completed"
    },
    "tags": []
   },
   "outputs": [
    {
     "name": "stderr",
     "output_type": "stream",
     "text": [
      "/opt/conda/lib/python3.10/site-packages/scipy/__init__.py:146: UserWarning: A NumPy version >=1.16.5 and <1.23.0 is required for this version of SciPy (detected version 1.23.5\n",
      "  warnings.warn(f\"A NumPy version >={np_minversion} and <{np_maxversion}\"\n"
     ]
    },
    {
     "name": "stdout",
     "output_type": "stream",
     "text": [
      "/kaggle/input/all-animes-in-mal/mal_anime.csv\n"
     ]
    }
   ],
   "source": [
    "# This Python 3 environment comes with many helpful analytics libraries installed\n",
    "# It is defined by the kaggle/python Docker image: https://github.com/kaggle/docker-python\n",
    "# For example, here's several helpful packages to load\n",
    "\n",
    "import numpy as np # linear algebra\n",
    "import pandas as pd # data processing, CSV file I/O (e.g. pd.read_csv)\n",
    "import difflib\n",
    "from sklearn.feature_extraction.text import TfidfVectorizer\n",
    "from sklearn.metrics.pairwise import cosine_similarity\n",
    "# Input data files are available in the read-only \"../input/\" directory\n",
    "# For example, running this (by clicking run or pressing Shift+Enter) will list all files under the input directory\n",
    "\n",
    "import os\n",
    "for dirname, _, filenames in os.walk('/kaggle/input'):\n",
    "    for filename in filenames:\n",
    "        print(os.path.join(dirname, filename))\n",
    "\n",
    "# You can write up to 20GB to the current directory (/kaggle/working/) that gets preserved as output when you create a version using \"Save & Run All\" \n",
    "# You can also write temporary files to /kaggle/temp/, but they won't be saved outside of the current session"
   ]
  },
  {
   "cell_type": "code",
   "execution_count": 2,
   "id": "ee011023",
   "metadata": {
    "execution": {
     "iopub.execute_input": "2023-07-26T19:56:00.174041Z",
     "iopub.status.busy": "2023-07-26T19:56:00.173634Z",
     "iopub.status.idle": "2023-07-26T19:56:00.647897Z",
     "shell.execute_reply": "2023-07-26T19:56:00.646459Z"
    },
    "papermill": {
     "duration": 0.48393,
     "end_time": "2023-07-26T19:56:00.650787",
     "exception": false,
     "start_time": "2023-07-26T19:56:00.166857",
     "status": "completed"
    },
    "tags": []
   },
   "outputs": [],
   "source": [
    "anime=pd.read_csv(\"/kaggle/input/all-animes-in-mal/mal_anime.csv\")"
   ]
  },
  {
   "cell_type": "code",
   "execution_count": 3,
   "id": "a4a95ff7",
   "metadata": {
    "execution": {
     "iopub.execute_input": "2023-07-26T19:56:00.663611Z",
     "iopub.status.busy": "2023-07-26T19:56:00.663187Z",
     "iopub.status.idle": "2023-07-26T19:56:00.695601Z",
     "shell.execute_reply": "2023-07-26T19:56:00.694493Z"
    },
    "papermill": {
     "duration": 0.041571,
     "end_time": "2023-07-26T19:56:00.698054",
     "exception": false,
     "start_time": "2023-07-26T19:56:00.656483",
     "status": "completed"
    },
    "tags": []
   },
   "outputs": [
    {
     "data": {
      "text/html": [
       "<div>\n",
       "<style scoped>\n",
       "    .dataframe tbody tr th:only-of-type {\n",
       "        vertical-align: middle;\n",
       "    }\n",
       "\n",
       "    .dataframe tbody tr th {\n",
       "        vertical-align: top;\n",
       "    }\n",
       "\n",
       "    .dataframe thead th {\n",
       "        text-align: right;\n",
       "    }\n",
       "</style>\n",
       "<table border=\"1\" class=\"dataframe\">\n",
       "  <thead>\n",
       "    <tr style=\"text-align: right;\">\n",
       "      <th></th>\n",
       "      <th>Unnamed: 0</th>\n",
       "      <th>title</th>\n",
       "      <th>episodes</th>\n",
       "      <th>status</th>\n",
       "      <th>theme</th>\n",
       "      <th>demographic</th>\n",
       "      <th>genres</th>\n",
       "      <th>type</th>\n",
       "      <th>favorites</th>\n",
       "      <th>popularity</th>\n",
       "      <th>rank</th>\n",
       "      <th>score</th>\n",
       "      <th>members</th>\n",
       "      <th>synopsis</th>\n",
       "      <th>aired</th>\n",
       "      <th>duration</th>\n",
       "      <th>premiered</th>\n",
       "      <th>studios</th>\n",
       "    </tr>\n",
       "  </thead>\n",
       "  <tbody>\n",
       "    <tr>\n",
       "      <th>0</th>\n",
       "      <td>0</td>\n",
       "      <td>Fullmetal Alchemist: Brotherhood</td>\n",
       "      <td>64</td>\n",
       "      <td>Finished Airing</td>\n",
       "      <td>Military</td>\n",
       "      <td>Shounen</td>\n",
       "      <td>Action,Adventure,Drama,Fantasy,</td>\n",
       "      <td>TV</td>\n",
       "      <td>218,277</td>\n",
       "      <td>#3</td>\n",
       "      <td>#1</td>\n",
       "      <td>9.10</td>\n",
       "      <td>3,190,961</td>\n",
       "      <td>After a horrific alchemy experiment goes wrong...</td>\n",
       "      <td>Apr 5, 2009 to Jul 4, 2010</td>\n",
       "      <td>24 min. per ep.</td>\n",
       "      <td>Spring 2009</td>\n",
       "      <td>Bones</td>\n",
       "    </tr>\n",
       "    <tr>\n",
       "      <th>1</th>\n",
       "      <td>1</td>\n",
       "      <td>Steins;Gate</td>\n",
       "      <td>24</td>\n",
       "      <td>Finished Airing</td>\n",
       "      <td>Unknown</td>\n",
       "      <td>Unknown</td>\n",
       "      <td>Drama,Sci-Fi,Suspense,</td>\n",
       "      <td>TV</td>\n",
       "      <td>183,596</td>\n",
       "      <td>#13</td>\n",
       "      <td>#2</td>\n",
       "      <td>9.07</td>\n",
       "      <td>2,452,142</td>\n",
       "      <td>Eccentric scientist Rintarou Okabe has a never...</td>\n",
       "      <td>Apr 6, 2011 to Sep 14, 2011</td>\n",
       "      <td>24 min. per ep.</td>\n",
       "      <td>Spring 2011</td>\n",
       "      <td>White Fox</td>\n",
       "    </tr>\n",
       "    <tr>\n",
       "      <th>2</th>\n",
       "      <td>2</td>\n",
       "      <td>Bleach: Sennen Kessen-hen</td>\n",
       "      <td>13</td>\n",
       "      <td>Finished Airing</td>\n",
       "      <td>Unknown</td>\n",
       "      <td>Shounen</td>\n",
       "      <td>Action,Adventure,Fantasy,</td>\n",
       "      <td>TV</td>\n",
       "      <td>18,421</td>\n",
       "      <td>#458</td>\n",
       "      <td>#3</td>\n",
       "      <td>9.06</td>\n",
       "      <td>455,428</td>\n",
       "      <td>Substitute Soul Reaper Ichigo Kurosaki spends ...</td>\n",
       "      <td>Oct 11, 2022 to Dec 27, 2022</td>\n",
       "      <td>24 min. per ep.</td>\n",
       "      <td>Fall 2022</td>\n",
       "      <td>Pierrot</td>\n",
       "    </tr>\n",
       "    <tr>\n",
       "      <th>3</th>\n",
       "      <td>3</td>\n",
       "      <td>Gintama°</td>\n",
       "      <td>51</td>\n",
       "      <td>Finished Airing</td>\n",
       "      <td>Unknown</td>\n",
       "      <td>Shounen</td>\n",
       "      <td>Action,Comedy,Sci-Fi,</td>\n",
       "      <td>TV</td>\n",
       "      <td>16,042</td>\n",
       "      <td>#332</td>\n",
       "      <td>#4</td>\n",
       "      <td>9.06</td>\n",
       "      <td>599,235</td>\n",
       "      <td>Gintoki, Shinpachi, and Kagura return as the f...</td>\n",
       "      <td>Apr 8, 2015 to Mar 30, 2016</td>\n",
       "      <td>24 min. per ep.</td>\n",
       "      <td>Spring 2015</td>\n",
       "      <td>Bandai Namco Pictures</td>\n",
       "    </tr>\n",
       "    <tr>\n",
       "      <th>4</th>\n",
       "      <td>4</td>\n",
       "      <td>Kaguya-sama wa Kokurasetai: Ultra Romantic</td>\n",
       "      <td>13</td>\n",
       "      <td>Finished Airing</td>\n",
       "      <td>School</td>\n",
       "      <td>Seinen</td>\n",
       "      <td>Comedy,Romance,</td>\n",
       "      <td>TV</td>\n",
       "      <td>29,397</td>\n",
       "      <td>#193</td>\n",
       "      <td>#5</td>\n",
       "      <td>9.05</td>\n",
       "      <td>832,346</td>\n",
       "      <td>The elite members of Shuchiin Academy's studen...</td>\n",
       "      <td>Apr 9, 2022 to Jun 25, 2022</td>\n",
       "      <td>23 min. per ep.</td>\n",
       "      <td>Spring 2022</td>\n",
       "      <td>A-1 Pictures</td>\n",
       "    </tr>\n",
       "  </tbody>\n",
       "</table>\n",
       "</div>"
      ],
      "text/plain": [
       "   Unnamed: 0                                       title episodes  \\\n",
       "0           0            Fullmetal Alchemist: Brotherhood       64   \n",
       "1           1                                 Steins;Gate       24   \n",
       "2           2                   Bleach: Sennen Kessen-hen       13   \n",
       "3           3                                    Gintama°       51   \n",
       "4           4  Kaguya-sama wa Kokurasetai: Ultra Romantic       13   \n",
       "\n",
       "            status     theme demographic                           genres  \\\n",
       "0  Finished Airing  Military     Shounen  Action,Adventure,Drama,Fantasy,   \n",
       "1  Finished Airing   Unknown     Unknown           Drama,Sci-Fi,Suspense,   \n",
       "2  Finished Airing   Unknown     Shounen        Action,Adventure,Fantasy,   \n",
       "3  Finished Airing   Unknown     Shounen            Action,Comedy,Sci-Fi,   \n",
       "4  Finished Airing    School      Seinen                  Comedy,Romance,   \n",
       "\n",
       "  type favorites popularity rank  score    members  \\\n",
       "0   TV   218,277         #3   #1   9.10  3,190,961   \n",
       "1   TV   183,596        #13   #2   9.07  2,452,142   \n",
       "2   TV    18,421       #458   #3   9.06    455,428   \n",
       "3   TV    16,042       #332   #4   9.06    599,235   \n",
       "4   TV    29,397       #193   #5   9.05    832,346   \n",
       "\n",
       "                                            synopsis  \\\n",
       "0  After a horrific alchemy experiment goes wrong...   \n",
       "1  Eccentric scientist Rintarou Okabe has a never...   \n",
       "2  Substitute Soul Reaper Ichigo Kurosaki spends ...   \n",
       "3  Gintoki, Shinpachi, and Kagura return as the f...   \n",
       "4  The elite members of Shuchiin Academy's studen...   \n",
       "\n",
       "                          aired         duration    premiered  \\\n",
       "0    Apr 5, 2009 to Jul 4, 2010  24 min. per ep.  Spring 2009   \n",
       "1   Apr 6, 2011 to Sep 14, 2011  24 min. per ep.  Spring 2011   \n",
       "2  Oct 11, 2022 to Dec 27, 2022  24 min. per ep.    Fall 2022   \n",
       "3   Apr 8, 2015 to Mar 30, 2016  24 min. per ep.  Spring 2015   \n",
       "4   Apr 9, 2022 to Jun 25, 2022  23 min. per ep.  Spring 2022   \n",
       "\n",
       "                 studios  \n",
       "0                  Bones  \n",
       "1              White Fox  \n",
       "2                Pierrot  \n",
       "3  Bandai Namco Pictures  \n",
       "4           A-1 Pictures  "
      ]
     },
     "execution_count": 3,
     "metadata": {},
     "output_type": "execute_result"
    }
   ],
   "source": [
    "anime.head()"
   ]
  },
  {
   "cell_type": "code",
   "execution_count": 4,
   "id": "241cf647",
   "metadata": {
    "execution": {
     "iopub.execute_input": "2023-07-26T19:56:00.712154Z",
     "iopub.status.busy": "2023-07-26T19:56:00.711034Z",
     "iopub.status.idle": "2023-07-26T19:56:00.718775Z",
     "shell.execute_reply": "2023-07-26T19:56:00.717845Z"
    },
    "papermill": {
     "duration": 0.017354,
     "end_time": "2023-07-26T19:56:00.721214",
     "exception": false,
     "start_time": "2023-07-26T19:56:00.703860",
     "status": "completed"
    },
    "tags": []
   },
   "outputs": [],
   "source": [
    "anime.rename(columns={\"Unnamed: 0\": \"index\"}, inplace=True)"
   ]
  },
  {
   "cell_type": "code",
   "execution_count": 5,
   "id": "bf779141",
   "metadata": {
    "execution": {
     "iopub.execute_input": "2023-07-26T19:56:00.734480Z",
     "iopub.status.busy": "2023-07-26T19:56:00.734060Z",
     "iopub.status.idle": "2023-07-26T19:56:00.885745Z",
     "shell.execute_reply": "2023-07-26T19:56:00.884324Z"
    },
    "papermill": {
     "duration": 0.161202,
     "end_time": "2023-07-26T19:56:00.888201",
     "exception": false,
     "start_time": "2023-07-26T19:56:00.726999",
     "status": "completed"
    },
    "tags": []
   },
   "outputs": [
    {
     "name": "stdout",
     "output_type": "stream",
     "text": [
      "<class 'pandas.core.frame.DataFrame'>\n",
      "RangeIndex: 24262 entries, 0 to 24261\n",
      "Data columns (total 18 columns):\n",
      " #   Column       Non-Null Count  Dtype  \n",
      "---  ------       --------------  -----  \n",
      " 0   index        24262 non-null  int64  \n",
      " 1   title        24262 non-null  object \n",
      " 2   episodes     24262 non-null  object \n",
      " 3   status       24262 non-null  object \n",
      " 4   theme        24262 non-null  object \n",
      " 5   demographic  24262 non-null  object \n",
      " 6   genres       24262 non-null  object \n",
      " 7   type         24262 non-null  object \n",
      " 8   favorites    24262 non-null  object \n",
      " 9   popularity   24262 non-null  object \n",
      " 10  rank         20197 non-null  object \n",
      " 11  score        15294 non-null  float64\n",
      " 12  members      24262 non-null  object \n",
      " 13  synopsis     24262 non-null  object \n",
      " 14  aired        24262 non-null  object \n",
      " 15  duration     24262 non-null  object \n",
      " 16  premiered    24262 non-null  object \n",
      " 17  studios      24262 non-null  object \n",
      "dtypes: float64(1), int64(1), object(16)\n",
      "memory usage: 3.3+ MB\n"
     ]
    }
   ],
   "source": [
    "anime.info()"
   ]
  },
  {
   "cell_type": "code",
   "execution_count": 6,
   "id": "6dd90f20",
   "metadata": {
    "execution": {
     "iopub.execute_input": "2023-07-26T19:56:00.902963Z",
     "iopub.status.busy": "2023-07-26T19:56:00.902287Z",
     "iopub.status.idle": "2023-07-26T19:56:34.392005Z",
     "shell.execute_reply": "2023-07-26T19:56:34.390670Z"
    },
    "papermill": {
     "duration": 33.509091,
     "end_time": "2023-07-26T19:56:34.403571",
     "exception": false,
     "start_time": "2023-07-26T19:56:00.894480",
     "status": "completed"
    },
    "tags": []
   },
   "outputs": [
    {
     "name": "stdout",
     "output_type": "stream",
     "text": [
      "Collecting summarytools\r\n",
      "  Downloading summarytools-0.2.3.tar.gz (11 kB)\r\n",
      "  Installing build dependencies ... \u001b[?25l-\b \b\\\b \b|\b \b/\b \b-\b \bdone\r\n",
      "\u001b[?25h  Getting requirements to build wheel ... \u001b[?25l-\b \bdone\r\n",
      "\u001b[?25h  Preparing metadata (pyproject.toml) ... \u001b[?25l-\b \bdone\r\n",
      "\u001b[?25hRequirement already satisfied: pandas>=1.4.0 in /opt/conda/lib/python3.10/site-packages (from summarytools) (1.5.3)\r\n",
      "Requirement already satisfied: ipython>=7.20.0 in /opt/conda/lib/python3.10/site-packages (from summarytools) (8.14.0)\r\n",
      "Requirement already satisfied: numpy>=1.18.5 in /opt/conda/lib/python3.10/site-packages (from summarytools) (1.23.5)\r\n",
      "Requirement already satisfied: matplotlib>=3.3.0 in /opt/conda/lib/python3.10/site-packages (from summarytools) (3.7.1)\r\n",
      "Requirement already satisfied: backcall in /opt/conda/lib/python3.10/site-packages (from ipython>=7.20.0->summarytools) (0.2.0)\r\n",
      "Requirement already satisfied: decorator in /opt/conda/lib/python3.10/site-packages (from ipython>=7.20.0->summarytools) (5.1.1)\r\n",
      "Requirement already satisfied: jedi>=0.16 in /opt/conda/lib/python3.10/site-packages (from ipython>=7.20.0->summarytools) (0.18.2)\r\n",
      "Requirement already satisfied: matplotlib-inline in /opt/conda/lib/python3.10/site-packages (from ipython>=7.20.0->summarytools) (0.1.6)\r\n",
      "Requirement already satisfied: pickleshare in /opt/conda/lib/python3.10/site-packages (from ipython>=7.20.0->summarytools) (0.7.5)\r\n",
      "Requirement already satisfied: prompt-toolkit!=3.0.37,<3.1.0,>=3.0.30 in /opt/conda/lib/python3.10/site-packages (from ipython>=7.20.0->summarytools) (3.0.38)\r\n",
      "Requirement already satisfied: pygments>=2.4.0 in /opt/conda/lib/python3.10/site-packages (from ipython>=7.20.0->summarytools) (2.15.1)\r\n",
      "Requirement already satisfied: stack-data in /opt/conda/lib/python3.10/site-packages (from ipython>=7.20.0->summarytools) (0.6.2)\r\n",
      "Requirement already satisfied: traitlets>=5 in /opt/conda/lib/python3.10/site-packages (from ipython>=7.20.0->summarytools) (5.9.0)\r\n",
      "Requirement already satisfied: pexpect>4.3 in /opt/conda/lib/python3.10/site-packages (from ipython>=7.20.0->summarytools) (4.8.0)\r\n",
      "Requirement already satisfied: contourpy>=1.0.1 in /opt/conda/lib/python3.10/site-packages (from matplotlib>=3.3.0->summarytools) (1.1.0)\r\n",
      "Requirement already satisfied: cycler>=0.10 in /opt/conda/lib/python3.10/site-packages (from matplotlib>=3.3.0->summarytools) (0.11.0)\r\n",
      "Requirement already satisfied: fonttools>=4.22.0 in /opt/conda/lib/python3.10/site-packages (from matplotlib>=3.3.0->summarytools) (4.40.0)\r\n",
      "Requirement already satisfied: kiwisolver>=1.0.1 in /opt/conda/lib/python3.10/site-packages (from matplotlib>=3.3.0->summarytools) (1.4.4)\r\n",
      "Requirement already satisfied: packaging>=20.0 in /opt/conda/lib/python3.10/site-packages (from matplotlib>=3.3.0->summarytools) (21.3)\r\n",
      "Requirement already satisfied: pillow>=6.2.0 in /opt/conda/lib/python3.10/site-packages (from matplotlib>=3.3.0->summarytools) (9.5.0)\r\n",
      "Requirement already satisfied: pyparsing>=2.3.1 in /opt/conda/lib/python3.10/site-packages (from matplotlib>=3.3.0->summarytools) (3.0.9)\r\n",
      "Requirement already satisfied: python-dateutil>=2.7 in /opt/conda/lib/python3.10/site-packages (from matplotlib>=3.3.0->summarytools) (2.8.2)\r\n",
      "Requirement already satisfied: pytz>=2020.1 in /opt/conda/lib/python3.10/site-packages (from pandas>=1.4.0->summarytools) (2023.3)\r\n",
      "Requirement already satisfied: parso<0.9.0,>=0.8.0 in /opt/conda/lib/python3.10/site-packages (from jedi>=0.16->ipython>=7.20.0->summarytools) (0.8.3)\r\n",
      "Requirement already satisfied: ptyprocess>=0.5 in /opt/conda/lib/python3.10/site-packages (from pexpect>4.3->ipython>=7.20.0->summarytools) (0.7.0)\r\n",
      "Requirement already satisfied: wcwidth in /opt/conda/lib/python3.10/site-packages (from prompt-toolkit!=3.0.37,<3.1.0,>=3.0.30->ipython>=7.20.0->summarytools) (0.2.6)\r\n",
      "Requirement already satisfied: six>=1.5 in /opt/conda/lib/python3.10/site-packages (from python-dateutil>=2.7->matplotlib>=3.3.0->summarytools) (1.16.0)\r\n",
      "Requirement already satisfied: executing>=1.2.0 in /opt/conda/lib/python3.10/site-packages (from stack-data->ipython>=7.20.0->summarytools) (1.2.0)\r\n",
      "Requirement already satisfied: asttokens>=2.1.0 in /opt/conda/lib/python3.10/site-packages (from stack-data->ipython>=7.20.0->summarytools) (2.2.1)\r\n",
      "Requirement already satisfied: pure-eval in /opt/conda/lib/python3.10/site-packages (from stack-data->ipython>=7.20.0->summarytools) (0.2.2)\r\n",
      "Building wheels for collected packages: summarytools\r\n",
      "  Building wheel for summarytools (pyproject.toml) ... \u001b[?25l-\b \bdone\r\n",
      "\u001b[?25h  Created wheel for summarytools: filename=summarytools-0.2.3-py3-none-any.whl size=8577 sha256=2a983ca8ff196c3ed35594cfbe729f7c620d7d4bdc38772d0d30391bd6290021\r\n",
      "  Stored in directory: /root/.cache/pip/wheels/d5/8a/5d/008e2127a7f9dd64d066f16e5ea268fa52823dc929c982d6f1\r\n",
      "Successfully built summarytools\r\n",
      "Installing collected packages: summarytools\r\n",
      "Successfully installed summarytools-0.2.3\r\n"
     ]
    },
    {
     "data": {
      "text/html": [
       "<style type=\"text/css\">\n",
       "#T_5eaa2 thead>tr>th {\n",
       "  text-align: left;\n",
       "}\n",
       "#T_5eaa2_row0_col0, #T_5eaa2_row1_col0, #T_5eaa2_row2_col0, #T_5eaa2_row3_col0, #T_5eaa2_row4_col0, #T_5eaa2_row5_col0, #T_5eaa2_row6_col0, #T_5eaa2_row7_col0, #T_5eaa2_row8_col0, #T_5eaa2_row9_col0, #T_5eaa2_row10_col0, #T_5eaa2_row11_col0, #T_5eaa2_row12_col0, #T_5eaa2_row13_col0, #T_5eaa2_row14_col0, #T_5eaa2_row15_col0, #T_5eaa2_row16_col0, #T_5eaa2_row17_col0 {\n",
       "  text-align: left;\n",
       "  font-size: 12px;\n",
       "  vertical-align: middle;\n",
       "  width: 5%;\n",
       "  max-width: 50px;\n",
       "  min-width: 20px;\n",
       "}\n",
       "#T_5eaa2_row0_col1, #T_5eaa2_row1_col1, #T_5eaa2_row2_col1, #T_5eaa2_row3_col1, #T_5eaa2_row4_col1, #T_5eaa2_row5_col1, #T_5eaa2_row6_col1, #T_5eaa2_row7_col1, #T_5eaa2_row8_col1, #T_5eaa2_row9_col1, #T_5eaa2_row10_col1, #T_5eaa2_row11_col1, #T_5eaa2_row12_col1, #T_5eaa2_row13_col1, #T_5eaa2_row14_col1, #T_5eaa2_row15_col1, #T_5eaa2_row16_col1, #T_5eaa2_row17_col1 {\n",
       "  text-align: left;\n",
       "  font-size: 12px;\n",
       "  vertical-align: middle;\n",
       "  width: 15%;\n",
       "  max-width: 200px;\n",
       "  min-width: 100px;\n",
       "  word-break: break-word;\n",
       "}\n",
       "#T_5eaa2_row0_col2, #T_5eaa2_row1_col2, #T_5eaa2_row2_col2, #T_5eaa2_row3_col2, #T_5eaa2_row4_col2, #T_5eaa2_row5_col2, #T_5eaa2_row6_col2, #T_5eaa2_row7_col2, #T_5eaa2_row8_col2, #T_5eaa2_row9_col2, #T_5eaa2_row10_col2, #T_5eaa2_row11_col2, #T_5eaa2_row12_col2, #T_5eaa2_row13_col2, #T_5eaa2_row14_col2, #T_5eaa2_row15_col2, #T_5eaa2_row16_col2, #T_5eaa2_row17_col2 {\n",
       "  text-align: left;\n",
       "  font-size: 12px;\n",
       "  vertical-align: middle;\n",
       "  width: 30%;\n",
       "  min-width: 100px;\n",
       "}\n",
       "#T_5eaa2_row0_col3, #T_5eaa2_row1_col3, #T_5eaa2_row2_col3, #T_5eaa2_row3_col3, #T_5eaa2_row4_col3, #T_5eaa2_row5_col3, #T_5eaa2_row6_col3, #T_5eaa2_row7_col3, #T_5eaa2_row8_col3, #T_5eaa2_row9_col3, #T_5eaa2_row10_col3, #T_5eaa2_row11_col3, #T_5eaa2_row12_col3, #T_5eaa2_row13_col3, #T_5eaa2_row14_col3, #T_5eaa2_row15_col3, #T_5eaa2_row16_col3, #T_5eaa2_row17_col3 {\n",
       "  text-align: left;\n",
       "  font-size: 12px;\n",
       "  vertical-align: middle;\n",
       "  width: 25%;\n",
       "  min-width: 100px;\n",
       "}\n",
       "#T_5eaa2_row0_col4, #T_5eaa2_row1_col4, #T_5eaa2_row2_col4, #T_5eaa2_row3_col4, #T_5eaa2_row4_col4, #T_5eaa2_row5_col4, #T_5eaa2_row6_col4, #T_5eaa2_row7_col4, #T_5eaa2_row8_col4, #T_5eaa2_row9_col4, #T_5eaa2_row10_col4, #T_5eaa2_row11_col4, #T_5eaa2_row12_col4, #T_5eaa2_row13_col4, #T_5eaa2_row14_col4, #T_5eaa2_row15_col4, #T_5eaa2_row16_col4, #T_5eaa2_row17_col4 {\n",
       "  text-align: left;\n",
       "  font-size: 12px;\n",
       "  vertical-align: middle;\n",
       "  width: 20%;\n",
       "  min-width: 150px;\n",
       "}\n",
       "#T_5eaa2_row0_col5, #T_5eaa2_row1_col5, #T_5eaa2_row2_col5, #T_5eaa2_row3_col5, #T_5eaa2_row4_col5, #T_5eaa2_row5_col5, #T_5eaa2_row6_col5, #T_5eaa2_row7_col5, #T_5eaa2_row8_col5, #T_5eaa2_row9_col5, #T_5eaa2_row10_col5, #T_5eaa2_row11_col5, #T_5eaa2_row12_col5, #T_5eaa2_row13_col5, #T_5eaa2_row14_col5, #T_5eaa2_row15_col5, #T_5eaa2_row16_col5, #T_5eaa2_row17_col5 {\n",
       "  text-align: left;\n",
       "  font-size: 12px;\n",
       "  vertical-align: middle;\n",
       "  width: 10%;\n",
       "}\n",
       "</style>\n",
       "<table id=\"T_5eaa2\">\n",
       "  <caption><strong>Data Frame Summary</strong><br>anime<br>Dimensions: 24,262 x 18<br>Duplicates: 0</caption>\n",
       "  <thead>\n",
       "    <tr>\n",
       "      <th id=\"T_5eaa2_level0_col0\" class=\"col_heading level0 col0\" >No</th>\n",
       "      <th id=\"T_5eaa2_level0_col1\" class=\"col_heading level0 col1\" >Variable</th>\n",
       "      <th id=\"T_5eaa2_level0_col2\" class=\"col_heading level0 col2\" >Stats / Values</th>\n",
       "      <th id=\"T_5eaa2_level0_col3\" class=\"col_heading level0 col3\" >Freqs / (% of Valid)</th>\n",
       "      <th id=\"T_5eaa2_level0_col4\" class=\"col_heading level0 col4\" >Graph</th>\n",
       "      <th id=\"T_5eaa2_level0_col5\" class=\"col_heading level0 col5\" >Missing</th>\n",
       "    </tr>\n",
       "  </thead>\n",
       "  <tbody>\n",
       "    <tr>\n",
       "      <td id=\"T_5eaa2_row0_col0\" class=\"data row0 col0\" >1</td>\n",
       "      <td id=\"T_5eaa2_row0_col1\" class=\"data row0 col1\" ><strong>index</strong><br>[int64]</td>\n",
       "      <td id=\"T_5eaa2_row0_col2\" class=\"data row0 col2\" >Mean (sd) : 12130.5 (7004.0)<br>min < med < max:<br>0.0 < 12130.5 < 24261.0<br>IQR (CV) : 12130.5 (1.7)</td>\n",
       "      <td id=\"T_5eaa2_row0_col3\" class=\"data row0 col3\" >24,262 distinct values</td>\n",
       "      <td id=\"T_5eaa2_row0_col4\" class=\"data row0 col4\" ><img src = \"data:image/png;base64, iVBORw0KGgoAAAANSUhEUgAAAKoAAABGCAYAAABc8A97AAAAOXRFWHRTb2Z0d2FyZQBNYXRwbG90bGliIHZlcnNpb24zLjcuMiwgaHR0cHM6Ly9tYXRwbG90bGliLm9yZy8pXeV/AAAACXBIWXMAAA9hAAAPYQGoP6dpAAABxklEQVR4nO3XQU7CYBBA4fkbJSCkDSHCAbwBSw7hYT0EJ2DhxhU7EtKUUDEarCcAKTXqS963baczixcSUtM0If132V8fIF3i5rsXUkqDiOhd+f0sIj6vnO06T91Nvbvr/HvTNIdTD8+GmlIaTCaTxzzPx223Ho/H27quH0aj0UuWZR+/OU/dTb37J+Z3u12ZUno6Fet3v6i9PM/Hi8XiUBTFW5vF6/V6vFqt7ufz+fNsNivbzHadp+6m3t11vqqq/nK5HG+3215EXBVqREQURfE2nU5f2ywvy3IQETEcDlvPdp2n7qbe/RPzETE499A/U0IwVCEYqhAMVQiGKgRDFYKhCsFQhWCoQjBUIRiqEAxVCIYqBEMVgqEKwVCFYKhCMFQhGKoQDFUIhioEQxWCoQrBUIVgqEIwVCEYqhAMVQiGKgRDFYKhCsFQhWCoQjBUIRiqEAxVCIYqBEMVgqEKwVCFYKhCMFQhGKoQDFUIhioEQxWCoQrBUIVgqEIwVCEYqhAMVQiGKgRDFYKhCsFQhWCoQjBUIRiqEAxVCIYqBEMVgqEK4eaSl6qq6rf98H6/70dE1HXd32w2d785T91Nvbvr/CV9fQGSljnmc7n3zQAAAABJRU5ErkJggg==\"></img></td>\n",
       "      <td id=\"T_5eaa2_row0_col5\" class=\"data row0 col5\" >0<br>(0.0%)</td>\n",
       "    </tr>\n",
       "    <tr>\n",
       "      <td id=\"T_5eaa2_row1_col0\" class=\"data row1 col0\" >2</td>\n",
       "      <td id=\"T_5eaa2_row1_col1\" class=\"data row1 col1\" ><strong>title</strong><br>[object]</td>\n",
       "      <td id=\"T_5eaa2_row1_col2\" class=\"data row1 col2\" >1. Crayon Shin-chan Movie 03: Unk<br>2. Kimi no Na wo Yobeba<br>3. Man Jie Guoxue Xilie: Chengyu <br>4. Man Jie Guoxue Xilie: Yuyan Gu<br>5. Man Shu Lan Liuliu<br>6. Man with a Mission Animated Sh<br>7. Man Youqu<br>8. Manabu no Natsuyasumi<br>9. Ima<br>10. Ima demo Senchou to Yobarete I<br>11. other</td>\n",
       "      <td id=\"T_5eaa2_row1_col3\" class=\"data row1 col3\" >2 (0.0%)<br>2 (0.0%)<br>2 (0.0%)<br>2 (0.0%)<br>2 (0.0%)<br>2 (0.0%)<br>2 (0.0%)<br>2 (0.0%)<br>2 (0.0%)<br>2 (0.0%)<br>24,242 (99.9%)</td>\n",
       "      <td id=\"T_5eaa2_row1_col4\" class=\"data row1 col4\" ><img src = \"data:image/png;base64, iVBORw0KGgoAAAANSUhEUgAAAJsAAAD+CAYAAAAtWHdlAAAAOXRFWHRTb2Z0d2FyZQBNYXRwbG90bGliIHZlcnNpb24zLjcuMiwgaHR0cHM6Ly9tYXRwbG90bGliLm9yZy8pXeV/AAAACXBIWXMAAA9hAAAPYQGoP6dpAAADLklEQVR4nO3cwY3TYBRG0ecogmFja2QpJUAPKYItvdOFNzCswoIeriVzTgX/4kpPkfxleb1eA4Xb2Q/g/yE2MmIjIzYyYiMjNjJiIyM2MmIjIzYyt2VZvi3L8nb2Q7i+28x8nZnPZz+E63NGyYiNjNjIiI2M2MiIjYzYyIiNjNjIiI2M2MiIjYzYyIiNjNjIiI3MbWZ+zsyfsx/C9S3+xYiKM0pGbGSsq8hYV5FxRsmIjYzYyIiNjNjIiI2M2MiIjYzYyIiNjNjIiI2M2MiIjYzYyBi8kDF4IeOMkhEbGYMXMgYvZJxRMmIjIzYyYiMjNjJiIyM2MmIjIzYyYiMjNjJiIyM2MmIjIzYyBi9kDF7IOKNkxEZGbGSsq8hYV5FxRsmIjYzYyIiNjNjIiI2M2MiIjYzYyIiNjNjIiI2M2MiIjYzYyFhXkbGuIuOMkhEbGYMXMgYvZJxRMmIjIzYyYiMjNjJiIyM2MmIjIzYyYiMjNjJiIyM2MmIjIzYyBi9kDF7IOKNkxEbG4IWMwQsZZ5SM2MiIjYzYyIiNjNjIiI2M2MiIjYzYyIiNjNjIiI2M2MiIjYzYyFhXkbGuIuOMkhEbGesqMtZVZJxRMmIjIzYyYiMjNjJiIyM2MmIjIzYyYiMjNjJiIyM2MmIjIzYyBi9kDF7IOKNkxEbG4IWMwQsZZ5SM2MiIjYzYyIiNjNjIiI2M2MiIjYzYyIiNjNjIiI2M2MiIjYzBCxmDFzLOKBmxkREbGesqMtZVZJxRMmIjIzYyYiMjNjJiIyM2MmIjIzYyYiMjNjJiIyM2MmIjIzYy1lVkrKvIOKNkxEbG4IWMwQsZZ5SM2MiIjYzYyIiNjNjIiI2M2MiIjYzYyIiNjNjIiI2M2MiIjYzBCxmDFzLOKJllZr7MzKezH8L13fd9/76u6/vZD+H67uu6vj+fz9/btn2c/Riu6ziOt/vMzLZtH4/H49fZD+La/EAgIzYyYiMjNjJiIyM2MmIjIzYyYiMjNjJiIyM2MmIjc5/59/nH2Q/h2o7jeFv2ff/h40kKPgsnY11Fxg8EMmIjIzYyYiMjNjJiIyM2MmIjIzYyfwFj50uCzHpkKgAAAABJRU5ErkJggg==\"></img></td>\n",
       "      <td id=\"T_5eaa2_row1_col5\" class=\"data row1 col5\" >0<br>(0.0%)</td>\n",
       "    </tr>\n",
       "    <tr>\n",
       "      <td id=\"T_5eaa2_row2_col0\" class=\"data row2 col0\" >3</td>\n",
       "      <td id=\"T_5eaa2_row2_col1\" class=\"data row2 col1\" ><strong>episodes</strong><br>[object]</td>\n",
       "      <td id=\"T_5eaa2_row2_col2\" class=\"data row2 col2\" >1. 1<br>2. 12<br>3. 2<br>4. 26<br>5. 13<br>6. 52<br>7. 3<br>8. 4<br>9. Unknown<br>10. 6<br>11. other</td>\n",
       "      <td id=\"T_5eaa2_row2_col3\" class=\"data row2 col3\" >11,269 (46.4%)<br>1,935 (8.0%)<br>1,308 (5.4%)<br>1,199 (4.9%)<br>990 (4.1%)<br>808 (3.3%)<br>657 (2.7%)<br>522 (2.2%)<br>520 (2.1%)<br>408 (1.7%)<br>4,646 (19.1%)</td>\n",
       "      <td id=\"T_5eaa2_row2_col4\" class=\"data row2 col4\" ><img src = \"data:image/png;base64, iVBORw0KGgoAAAANSUhEUgAAAJsAAAD+CAYAAAAtWHdlAAAAOXRFWHRTb2Z0d2FyZQBNYXRwbG90bGliIHZlcnNpb24zLjcuMiwgaHR0cHM6Ly9tYXRwbG90bGliLm9yZy8pXeV/AAAACXBIWXMAAA9hAAAPYQGoP6dpAAAEO0lEQVR4nO3dwU4TbQCG0alpiG7aEJJeTC/Ci/UiejcNaRdi3PRf/GpACkiZeUroOTtXTszjR2byvTo7HA4DFD6d+wG4HGIjIzYyYiMjNjJiIyM2MmIjIzYys2EYvgzDcHXuB3nHfh4Oh7tzP8RHML+5ufm6WCyuz/0g79V+v7+dzWbfBPd288Vicb1er++Wy+WPcz/Me7Pb7T5vNpvr7XZ7NQyD2N5oPgzDsFwuf6xWq+/nfph36su5H+Cj8IJARmxkxEZGbGTERkZsZMRGRmxkxEZGbGTERkZsZMRGRmxk5sPw/72tcz/Ie+TPZVzz/X5/u9lsrgf3to7a7/e3wzD8PPdzfAQ2CC+zQRjJzD+ZReWUk83fdE7y6nWVtRGnetW6ytqItzhlXeWtlZP4qEtGbGTERkZsZMRGRmxkxEZGbGTERkZsZMRGRmxkxEbmVYMXAxDe4tWDFwMQTuVaOBmDFzL/crI5yRjFi4MXAxfG8uzgxcCFMf3L4MXAhVH4qEtGbGTERkZsZMRGRmxkxEZGbGTERkZsZMRGRmxkxEbm2cGLgQtjenHwYuDCWFwLJ2PwQsYLAhk/RslYV5GxriJjXUXGCwIZsZERGxmxkREbGbGRERsZsZERGxmxkREbGbGRERsZ6yoy1lVkXAsnY11F5rmTzYnGqJ4cvBi6MLajgxdDF6bw3ODF0IVR+ahLRmxkxEZGbGTERkZsZMRGRmxkxEZGbGTERkZsZMRG5ujgxdCFKTw5eDF0YWyuhZMxeCHz1MnmVGN0Rwcvxi5M4dHgxdiFqTw1eDF2YXQ+6pIRGxmxkREbGbGRERsZsZERGxmxkREbGbGRERsZsZERG5lH6yrLKqZydF1lWcUUbBDIWFeROXayOdWYxKN1lWUVU3mwrrKsYkrH1lWWVUzCR10yYiMjNjJiIyM2MmIjIzYyYiMjNjJiIyM2MmIjIzYyDwYvxi5M6dHgxdiFqbgWTsbghczfJ5tTjck8GLwYuzClT78HL+v1+u5XdMf+O0h4sz+Dl1+/NnZhMj7qkhEbGbGRERsZsZERGxmxkREbGbGRERsZsZERGxmxkXn0P7zAVO4PXoxdmJRr4WQMXsh4QSDjxygZ6yoy1lVkrKvIeEEgIzYyYiMjNjJiIyM2MmIjIzYyYiMjNjJiIyM2MmIjY11FxrqKjGvhZKyryDjZyBi8kDF4IWPwQsZHXTJiIyM2MmIjIzYyYiMjNjJiIyM2MmIjIzYyYiMjNjIGL2QMXsi4Fk7G4IXM3ydbySl6YR4MXkrGNZdn/nvwcm+HMLndbvd5s9lcb7fbq2EYxHYh/gxeVqvV9/j3Nq65MD7qkhEbGbGRERsZsZERGxmxkREbGbGRERsZsZERGxmxkTnL4MXA5jLdH7ykV36May6Pa+FkDF7IeEEgIzYyYiMjNjJiIyM2MmIjIzYyYiPzH4DaKcX2Fy32AAAAAElFTkSuQmCC\"></img></td>\n",
       "      <td id=\"T_5eaa2_row2_col5\" class=\"data row2 col5\" >0<br>(0.0%)</td>\n",
       "    </tr>\n",
       "    <tr>\n",
       "      <td id=\"T_5eaa2_row3_col0\" class=\"data row3 col0\" >4</td>\n",
       "      <td id=\"T_5eaa2_row3_col1\" class=\"data row3 col1\" ><strong>status</strong><br>[object]</td>\n",
       "      <td id=\"T_5eaa2_row3_col2\" class=\"data row3 col2\" >1. Finished Airing<br>2. Not yet aired<br>3. Currently Airing</td>\n",
       "      <td id=\"T_5eaa2_row3_col3\" class=\"data row3 col3\" >23,540 (97.0%)<br>412 (1.7%)<br>310 (1.3%)</td>\n",
       "      <td id=\"T_5eaa2_row3_col4\" class=\"data row3 col4\" ><img src = \"data:image/png;base64, iVBORw0KGgoAAAANSUhEUgAAAJsAAABFCAYAAABdVZTTAAAAOXRFWHRTb2Z0d2FyZQBNYXRwbG90bGliIHZlcnNpb24zLjcuMiwgaHR0cHM6Ly9tYXRwbG90bGliLm9yZy8pXeV/AAAACXBIWXMAAA9hAAAPYQGoP6dpAAABrklEQVR4nO3bQW6CQACF4QchtmyGEBOP4QE4RA/bQ3AA72GIsyjWDV3UWqp20zhvEvp/O1nN4o+I4RXTNAlwKHMfAP9HIamWtMp9ECzOaZqmcX6hWq/XLyGENteJsEwxxqEoitd5cFUIoe26bmya5pjzcFiOw+Hw3Pd9u9/vV5K+Y5OkpmmOm83mLdvpsET19QUeEGBDbLAhNtgQG2yIDTbEBhtigw2xwYbYYENssCE22BAbbIgNNsQGm0r6fP8o90GwHL/1VMUYh77vW915/wj4qxjjIOk0v8YGAancbBAKpnxwuf5mu6kReJQf66p7ixjgUcqvdVXXdeM5On6/IYnLuur8mSdSJMOfurAhNtgQG2yIDTbEBhtigw2xwYbYYENssCE22BAbbIgNNsQGG2KDDesq2MzXVXcXMcCjsEGADesq2PCAAJv5bZRbKJK6TPmY8SG1MoTQbrdbMeNDaqUk1XX9nvsgWD4eEGBDbLAhNtgQG2yIDTbEBhtigw2xwYbYYENssCE22BAbbIgNNsQGm1KSxnF8yn0QLF8ZYxx2ux0zPiTHBgE2TPlg8wGXkYfQci/s9wAAAABJRU5ErkJggg==\"></img></td>\n",
       "      <td id=\"T_5eaa2_row3_col5\" class=\"data row3 col5\" >0<br>(0.0%)</td>\n",
       "    </tr>\n",
       "    <tr>\n",
       "      <td id=\"T_5eaa2_row4_col0\" class=\"data row4 col0\" >5</td>\n",
       "      <td id=\"T_5eaa2_row4_col1\" class=\"data row4 col1\" ><strong>theme</strong><br>[object]</td>\n",
       "      <td id=\"T_5eaa2_row4_col2\" class=\"data row4 col2\" >1. Unknown<br>2. Music<br>3. School<br>4. Historical<br>5. Anthropomorphic<br>6. Mecha<br>7. Parody<br>8. Mythology<br>9. Super Power<br>10. Martial Arts<br>11. other</td>\n",
       "      <td id=\"T_5eaa2_row4_col3\" class=\"data row4 col3\" >14,805 (61.0%)<br>2,803 (11.6%)<br>821 (3.4%)<br>796 (3.3%)<br>689 (2.8%)<br>582 (2.4%)<br>318 (1.3%)<br>272 (1.1%)<br>265 (1.1%)<br>202 (0.8%)<br>2,709 (11.2%)</td>\n",
       "      <td id=\"T_5eaa2_row4_col4\" class=\"data row4 col4\" ><img src = \"data:image/png;base64, iVBORw0KGgoAAAANSUhEUgAAAJsAAAD+CAYAAAAtWHdlAAAAOXRFWHRTb2Z0d2FyZQBNYXRwbG90bGliIHZlcnNpb24zLjcuMiwgaHR0cHM6Ly9tYXRwbG90bGliLm9yZy8pXeV/AAAACXBIWXMAAA9hAAAPYQGoP6dpAAAEW0lEQVR4nO3dTU4cVwBG0QdqETOpVguJZXgBLMKLzSJ6AewDIWpgiCdk4B/ZARJjum5HrnPmbpWsS6EqvY8+eXx8HFA4PfYFsB5iIyM2MmIjIzYyYiMjNjJiIyM2MidjjPMxxtmxL2SlPj0+Pt4f+yIqm4uLiw/TNO2OfSFrNM/z7cnJyZ9rCW4zTdPu6urqfrvdPhz7Ytbk7u7u3X6/393c3JyNMdYR2xhjbLfbh8vLy4/HvpgVOj/2BZQ8IJARGxmxkREbGbGRERsZsZERGxmxkREbGbGRERsZsZERG5nNGJ/PVh37QtZmjf/nm3meb/f7/W6s7GzV/8E8z7djjE/Hvo6KDcJxrWqDcOJPZlE55J1tVT+lvN7B1lVrWwrxegdZV61xKcTrHXJd5WmWf+WlLhmxkREbGbGRERsZsZERGxmxkREbGbGRERsZsZERG5mDDF7WON7g9Q42eFnbeIPXcyycjMELmZfubO5SHNyzgxfjFZbwZPBivMJSXhq8GK9wcF7qkhEbGbGRERsZsZERGxmxkREbGbGRERsZsZERGxmxkXkyeDFeYSnPDl6MV1iCY+FkDF7IeEAg49coGesqMtZVZKyryHhAICM2MmIjIzYyYiMjNjJiIyM2MmIjIzYyYiMjNjJiI2NdRca6ioxj4WSsq8g8d2dzV2MRTwYvxi4s5YfBi7ELS3pu8GLswiK81CUjNjJiIyM2MmIjIzYyYiMjNjJiIyM2MmIjIzYyYiPzw+DF2IUlPRm8GLuwFMfCyRi8kHFnI2PwQsbghYzBCxkvdcmIjYzYyIiNjNjIiI2M2MiIjYzYyIiNjNjIiI2M2MiIjYx1FRnrKjI2CGSsq8h8f2dzR2NR39ZVVlUs7XSapt379+/HlznfP78KEg7mdIwxzs/P/zr2hfD781KXjNjIiI2M2MiIjYzYyIiNjNjIiI2M2MiIjYzYyIiNzOkYY9zf3/9x7Avh93c6z/Pt9fW1oQuLcyycjMELGXc2MgYvZAxeyBi8kPFSl4zYyIiNjNjIiI2M2MiIjYzYyIiNjNjIiI2M2MiIjYzBCxmDFzKOhZMxeCHjAYGMX6NkrKvIWFeRsa4i4wGBjNjIiI2M2MiIjYzYyIiNjNjIiI2M2MiIjYzYyIiNjHUVGesqMo6Fk7GuIvP1zjbc1Vja5uLi4sMYYxi7sLTTaZp2xi4UvGcjIzYyYiMjNjJiIyM2MmIjIzYyYiMjNjJiIyM2MmIjIzYyYiOz+TJ0GcPYhYU5Fk7G4IXM91O+tzAD5D99+4aXt3yIb4fhZ2ymadpdXV3db7fbh1/5gLu7u3f7/X53c3NzNsYQGy/ajDHGdrt9uLy8/PiGzzk/0PXwG/OejYzYyIiNjNjIiI2M2MiIjYzYyIiNjNjIiI2M2MiIjcxmjM/HhH71A97yb1mXzTzPt/v9fjfecEzIt8PwMxwLJ2PwQsYDAhmxkREbGbGRERsZsZERGxmxkREbmb8BAW8Bs2MDbpIAAAAASUVORK5CYII=\"></img></td>\n",
       "      <td id=\"T_5eaa2_row4_col5\" class=\"data row4 col5\" >0<br>(0.0%)</td>\n",
       "    </tr>\n",
       "    <tr>\n",
       "      <td id=\"T_5eaa2_row5_col0\" class=\"data row5 col0\" >6</td>\n",
       "      <td id=\"T_5eaa2_row5_col1\" class=\"data row5 col1\" ><strong>demographic</strong><br>[object]</td>\n",
       "      <td id=\"T_5eaa2_row5_col2\" class=\"data row5 col2\" >1. Unknown<br>2. Kids<br>3. Shounen<br>4. Seinen<br>5. Shoujo<br>6. Josei</td>\n",
       "      <td id=\"T_5eaa2_row5_col3\" class=\"data row5 col3\" >14,877 (61.3%)<br>5,873 (24.2%)<br>1,820 (7.5%)<br>948 (3.9%)<br>634 (2.6%)<br>110 (0.5%)</td>\n",
       "      <td id=\"T_5eaa2_row5_col4\" class=\"data row5 col4\" ><img src = \"data:image/png;base64, iVBORw0KGgoAAAANSUhEUgAAAJsAAACKCAYAAAC96ziyAAAAOXRFWHRTb2Z0d2FyZQBNYXRwbG90bGliIHZlcnNpb24zLjcuMiwgaHR0cHM6Ly9tYXRwbG90bGliLm9yZy8pXeV/AAAACXBIWXMAAA9hAAAPYQGoP6dpAAACrElEQVR4nO3dQU7bUBiF0T8oQmXiKIqUxbAIFttFZDdRFA8KYuIOSgeIgOQQX7t956zgCX284MhXrIZhKEi4m/sAtENsxIiNGLERs6qqh6q6n/sgjXodhuF57kOkrHe73VPXddu5D9Kivu9Pq9XqZyvBrbuu2z4+Pj5vNpuXuQ/TkvP5/ONwOGyPx+N9VbURW1XVZrN52e/3v+Y+TIMe5j5AkgcEYsRGjNiIERsxYiNGbMSIjRixESM2YsRGjNiIERsxYiNmXfXndZe5D9KaFn/m677vT4fDYVuNve6yBH3fn6rqde5zpHgtfF5NvRa+MlImZck3W1O/9S1Y7OCltTFICxY5eGlxDNKCJQ9ePB3/Z3ypS4zYiBEbMWIjRmzEiI0YsREjNmLERozYiBEbMWIjRmzEiI2YRa6rlnYebmOx66rWlkctsEEgxrqKmGtuNjcOVxm9rrJ64lqj1lVWT3zHNeuqRT218u/wpS4xYiNGbMSIjRixESM2YsRGjNiIERsxYiNGbMSIjRixESM2Ykatq6ye+I7R6yqrJ65lg0CMdRUxX91sbjBu6tN1lRUVt3ZxXWVFxRS+WldZUXFTvtQlRmzEiI0YsREjNmLERozYiBEbMWIjRmzEiI0YsREjNmIuDl4MW5jCp4MXwxZuzWvhxBi8EOMBgZhLH6M+PpnEh3WVVRVTebeusqpiSpfWVVZVTMIDAjFiI0ZsxIiNGLERIzZixEaM2IgRGzFiI0ZsxIiNGLER825dZVXFlD6sq6yqmIrXwomxriLm781WbjOmtt7tdk9VVUYuTO2u67rt27pqzL+BhNF8z0aM2IgRGzFiI0ZsxIiNGLERIzZixEaM2IgRGzFiI0ZsxIiNGLERIzZi1m9rqiqLKiZmg0CMdRUx/mYjRmzEiI2Y37M5I8hXcWn7AAAAAElFTkSuQmCC\"></img></td>\n",
       "      <td id=\"T_5eaa2_row5_col5\" class=\"data row5 col5\" >0<br>(0.0%)</td>\n",
       "    </tr>\n",
       "    <tr>\n",
       "      <td id=\"T_5eaa2_row6_col0\" class=\"data row6 col0\" >7</td>\n",
       "      <td id=\"T_5eaa2_row6_col1\" class=\"data row6 col1\" ><strong>genres</strong><br>[object]</td>\n",
       "      <td id=\"T_5eaa2_row6_col2\" class=\"data row6 col2\" >1. Unknown<br>2. Comedy,<br>3. Fantasy,<br>4. Hentai,<br>5. Drama,<br>6. fe,<br>7. rde,<br>8. Adventure,Fantasy,<br>9. Action,Sci-Fi,<br>10. Comedy,fe,<br>11. other</td>\n",
       "      <td id=\"T_5eaa2_row6_col3\" class=\"data row6 col3\" >4,914 (20.3%)<br>2,287 (9.4%)<br>1,333 (5.5%)<br>776 (3.2%)<br>627 (2.6%)<br>621 (2.6%)<br>606 (2.5%)<br>537 (2.2%)<br>509 (2.1%)<br>492 (2.0%)<br>11,560 (47.6%)</td>\n",
       "      <td id=\"T_5eaa2_row6_col4\" class=\"data row6 col4\" ><img src = \"data:image/png;base64, iVBORw0KGgoAAAANSUhEUgAAAJsAAAD+CAYAAAAtWHdlAAAAOXRFWHRTb2Z0d2FyZQBNYXRwbG90bGliIHZlcnNpb24zLjcuMiwgaHR0cHM6Ly9tYXRwbG90bGliLm9yZy8pXeV/AAAACXBIWXMAAA9hAAAPYQGoP6dpAAAEHUlEQVR4nO3cTWobWQBG0acgTDKRMAYvRovoxfYitBthpEEcMlEPOgn+bcuW6laDz5llEMqEyzNVvC+L4/E4oPBl7h+Az0NsZMRGRmxkxEZGbGTERkZsZMRGZjHG+DbGuJrp+T+Px+P9TM8mtry5uflrtVpdz/Hww+Fwt1gs/hbc57BcrVbXm83mfr1e/ygfvN/vv2632+vdbnc1xhDbJ7AcY4z1ev3j9vb2+wzP/zbDM5mJFwQyYiMjNjJiIyM2MmIjIzYyYiMjNjJiIyM2MmIjIzYyYiOzHOPfu2X1g+d4JvNaHg6Hu+12ez1muFt2OBzuxhg/6+cyDxsEMgv/ZRaVc082JxMnO2tdZR3Fe3x4XWUdxXudu66yjuJkPuqSERsZsZERGxmxkREbGbGRERsZsZERGxmxkREbGbGR+fDgxWCF9zpr8GKwwnu4Fk7G4IXMqSebE4yznTR4MWzhEt4cvBi2cCmnDl4MWzibj7pkxEZGbGTERkZsZMRGRmxkxEZGbGTERkZsZMRGRmxk3hy8GLZwKScNXgxbuATXwskYvJDxgkDmtV+jfm1ycS+uq6ypmMKzdZU1FVN5bV1lTcXFeUEgIzYyYiMjNjJiIyM2MmIjIzYyYiMjNjJiIyM2MmIj82xdZU3FVF5cV1lTMQXXwslYV5F56WRzqjGJZ4MXYxem8mjwYuzClF4avBi7MAkfdcmIjYzYyIiNjNjIiI2M2MiIjYzYyIiNjNjIiI2M2Mg8GrwYuzClZ4MXYxem4lo4GYMXMk42MgYvZAxeyBi8kPFRl4zYyIiNjNjIiI2M2MiIjYzYyIiNjNjIiI2M2MiIjYzYyFhXkbGuImODQMa6ioyTjYx1FRnrKjLWVWR81CUjNjJiIyM2MmIjIzYyYiMjNjJiIyM2MmIjIzYyYiNj8ELG4IWMa+FkDF7IPD3ZnGpM5tHgxdiFKX35PXjZbDb3v6K7evNvwQf8Gbz8+rOxC5PxUZeM2MiIjYzYyIiNjNjIiI2M2MiIjYzYyIiNjNjIiI3Mo8ELTOnh4MXYhUm5Fk7G4IWMFwQyfo2Ssa4iY11FxrqKjBcEMmIjIzYyYiMjNjJiIyM2MmIjIzYyYiMjNjJiIyM2MtZVZKyryLgWTsa6ioyTjYzBCxmDFzIGL2R81CUjNjJiIyM2MmIjIzYyYiMjNjJiIyM2MmIjIzYyYiNj8ELG4IWMa+FkDF7IPD3ZeJ1T/0yPBi+8zhjofMvfg5cHOwSe2O/3X7fb7fVut7saY4jtg/4MXm5vb7/P/cP8zxkDnclHXTJiIyM2MmIjIzYyYiMjNjJiIyM2MmIjIzYyYiMjNjIGLyfw73MZDwcvrtD8B2Og87kWfjrXws9k8ELGCwIZsZERGxmxkREbGbGRERsZsZERG5l/APUPKcUoxVPXAAAAAElFTkSuQmCC\"></img></td>\n",
       "      <td id=\"T_5eaa2_row6_col5\" class=\"data row6 col5\" >0<br>(0.0%)</td>\n",
       "    </tr>\n",
       "    <tr>\n",
       "      <td id=\"T_5eaa2_row7_col0\" class=\"data row7 col0\" >8</td>\n",
       "      <td id=\"T_5eaa2_row7_col1\" class=\"data row7 col1\" ><strong>type</strong><br>[object]</td>\n",
       "      <td id=\"T_5eaa2_row7_col2\" class=\"data row7 col2\" >1. TV<br>2. Movie<br>3. OVA<br>4. ONA<br>5. Music<br>6. Special<br>7. Unknown</td>\n",
       "      <td id=\"T_5eaa2_row7_col3\" class=\"data row7 col3\" >7,609 (31.4%)<br>4,362 (18.0%)<br>3,545 (14.6%)<br>3,468 (14.3%)<br>2,696 (11.1%)<br>2,526 (10.4%)<br>56 (0.2%)</td>\n",
       "      <td id=\"T_5eaa2_row7_col4\" class=\"data row7 col4\" ><img src = \"data:image/png;base64, iVBORw0KGgoAAAANSUhEUgAAAJsAAAChCAYAAADQgM1HAAAAOXRFWHRTb2Z0d2FyZQBNYXRwbG90bGliIHZlcnNpb24zLjcuMiwgaHR0cHM6Ly9tYXRwbG90bGliLm9yZy8pXeV/AAAACXBIWXMAAA9hAAAPYQGoP6dpAAAC+0lEQVR4nO3bQW4TWQBF0V+RRcPEVhQpS4A9ZBG92F6EF9F7iKJ40NBMzAAJQYSIoVy3CD5nBX9wVeWy/puOx+OAwtXaB+ByiI2M2MiIjYzYyExjjDdjjFdrH2Smj8fj8f3ah+DHNjc3N39vt9vrtQ8yx+FweJim6R/B/d422+32+u7u7v1ut/uw9mF+xePj4+v9fn99f3//aowhtt/YZowxdrvdh9vb2//WPswMb9Y+AM/zgUBGbGTERkZsZMRGRmxkxEZGbGTERkZsZMRGRmxkxEZmM8bnazprH+RXveSzX5rN4XB42O/31+MFX9M5HA4PY4yPa5+DH3MtnMxkEU9ljSebp9CFygcvximXKx28GKdctjUGLy/2q5d5/KlLRmxkxEZGbGTERkZsZMRGRmxkxEZGbGTERkZsZMRGRmxk0nWVJdRly9dVllCXywaBjHUVmaWfbJ5ifLHousqSiq8ttq6ypOKppddVllR84U9dMmIjIzYyYiMjNjJiIyM2MmIjIzYyYiMjNjJiIyM2MosNXoxbeGrRwYtxC19zLZyMwQsZHwhklnyNeoXyjcXWVZZVPLXIusqyiu9Zcl1lWcU3fCCQERsZsZERGxmxkREbGbGRERsZsZERGxmxkREbGbGRWWRdZVnF9yy2rrKs4inXwslYV5E515PNU4xnnWXwYtzCKWYPXoxbONW5Bi/GLTzLn7pkxEZGbGTERkZsZMRGRmxkxEZGbGTERkZsZMRGRmxkZg9ejFs41VkGL8YtnMK1cDIGL2R8IJA5x2vUK5STzF5XWVZxqlnrKssqfsY51lWWVZzEBwIZsZERGxmxkREbGbGRERsZsZERGxmxkREbGbGRERuZWesqyyp+xux1lWUVp3ItnIx1FRkfCGSupml6N02TH/os7mqM8XaM8dfaB+HP5zVKRmxkxEZGbGTERkZsZMRGRmxkxEZGbGTERkZsZMRGRmxkxEZGbGSuxhj/jjH+X/sg/PkMXsh4jZIRGxmxkREbGbGR+QR2akkFhTMOxgAAAABJRU5ErkJggg==\"></img></td>\n",
       "      <td id=\"T_5eaa2_row7_col5\" class=\"data row7 col5\" >0<br>(0.0%)</td>\n",
       "    </tr>\n",
       "    <tr>\n",
       "      <td id=\"T_5eaa2_row8_col0\" class=\"data row8 col0\" >9</td>\n",
       "      <td id=\"T_5eaa2_row8_col1\" class=\"data row8 col1\" ><strong>favorites</strong><br>[object]</td>\n",
       "      <td id=\"T_5eaa2_row8_col2\" class=\"data row8 col2\" >1. 0<br>2. 1<br>3. 2<br>4. 3<br>5. 4<br>6. 5<br>7. 6<br>8. 7<br>9. 8<br>10. 9<br>11. other</td>\n",
       "      <td id=\"T_5eaa2_row8_col3\" class=\"data row8 col3\" >10,598 (43.7%)<br>2,224 (9.2%)<br>1,110 (4.6%)<br>739 (3.0%)<br>501 (2.1%)<br>473 (1.9%)<br>316 (1.3%)<br>276 (1.1%)<br>255 (1.1%)<br>250 (1.0%)<br>7,520 (31.0%)</td>\n",
       "      <td id=\"T_5eaa2_row8_col4\" class=\"data row8 col4\" ><img src = \"data:image/png;base64, iVBORw0KGgoAAAANSUhEUgAAAJsAAAD+CAYAAAAtWHdlAAAAOXRFWHRTb2Z0d2FyZQBNYXRwbG90bGliIHZlcnNpb24zLjcuMiwgaHR0cHM6Ly9tYXRwbG90bGliLm9yZy8pXeV/AAAACXBIWXMAAA9hAAAPYQGoP6dpAAAEYElEQVR4nO3dQU4bWQBF0Q+y0mFiy0JiGSzAi+jF9iK8APaBEB7EdCb0IAmim5A0jusWkHNmmX2hq0JV+i+c3N/fDyiczn0Afh9iIyM2MmIjIzYyYiMjNjJiIyM2MidjjLMxxoe5D/KKfL6/v9/PfYj3aHF+fv7ncrlcz32Q12K3292cnJz8JbjjWyyXy/Vms9mvVqu7uQ8zt9vb24/b7XZ9fX39YYwhtiNbjDHGarW6u7i4+DT3YV6Js7kP8F55QSAjNjJiIyM2MmIjIzYyYiMjNjJiIyM2MmIjIzYyYiMjNjKLMb7c45r7IK+Bn8O0Frvd7ma73a6He1xjjC83dccYn+c+x3tkg/CUDcJETvyXWVR+5cnmCcCLHLyuskLipQ5aV1khcYhfWVd5e+VFfNQlIzYyYiMjNjJiIyM2MmIjIzYyYiMjNjJiIyM2MmIjc9DgxTCEQxw8eDEM4aVcCydj8ELmZ082Ty+O5oeDF6MWjunZwYtRC8f2s8GLUQtH46MuGbGRERsZsZERGxmxkREbGbGRERsZsZERGxmxkREbmWcHL0YtHNsPBy9GLRyTa+FkDF7IeEEg89yvUb8+ObrvrqusqpjCk3WVVRVTeW5dZVXF0XlBICM2MmIjIzYyYiMjNjJiIyM2MmIjIzYyYiMjNjJiI/NkXWVVxVS+u66yqmIKroWTsa4i898nmycak/nX4MXQhSmdfhu8bDab/dfoDvlzkPBTD4OXr/82dGEyPuqSERsZsZERGxmxkREbGbGRERsZsZERGxmxkREbGbGRefbPCcGxPR68GLowKdfCyRi8kPFkI2PwQsbghYzBCxkfdcmIjYzYyIiNjNjIiI2M2MiIjYzYyIiNjNjIiI2M2MiIjYx1FRnrKjI2CGSsq8g8frJ5qjGph3WVZRVTO10ul+vLy8thWcXUTscY4+zs7O+5D8L756MuGbGRERsZsZERGxmxkREbGbGRERsZsZERGxmxkREbmdMxxtjv93/MfRDev9PdbndzdXVl7MLkXAsnY/BCxpONjMELGYMXMgYvZHzUJSM2MmIjIzYyYiMjNjJiIyM2MmIjIzYyYiMjNjJiI2PwQsbghYxr4WQMXsh4QSDj1ygZ6yoy1lVkrKvIeEEgIzYyYiMjNjJiIyM2MmIjIzYyYiMjNjJiIyM2MmIjY11FxrqKjGvhZKyryHiykTF4IWPwQsbghYyPumTERkZsZMRGRmxkxEZGbGTERkZsZMRGRmxkxEZGbGQMXsgYvJBxLZyMwQuZx0+2t8oT+Y14GLzMfZBDGeq8HYvlcrnebDb71Wp1N/dhXur29vbjdrtdX19ffxhjiO2VW4wxxmq1uru4uPg092EOdDb3Afh/fNQlIzYyYiMjNjJiIyM2MmIjIzYyYiMjNjJiIyM2MmIjsxjjy1WduQ9yiLd67t/VYrfb3Wy32/V4o1d1DHXeDtfCyRi8kPGCQEZsZMRGRmxkxEZGbGTERkZsZMRG5h/aP/mp7AK/ZQAAAABJRU5ErkJggg==\"></img></td>\n",
       "      <td id=\"T_5eaa2_row8_col5\" class=\"data row8 col5\" >0<br>(0.0%)</td>\n",
       "    </tr>\n",
       "    <tr>\n",
       "      <td id=\"T_5eaa2_row9_col0\" class=\"data row9 col0\" >10</td>\n",
       "      <td id=\"T_5eaa2_row9_col1\" class=\"data row9 col1\" ><strong>popularity</strong><br>[object]</td>\n",
       "      <td id=\"T_5eaa2_row9_col2\" class=\"data row9 col2\" >1. #17330<br>2. #14433<br>3. #11284<br>4. #18239<br>5. #17168<br>6. #19899<br>7. #18931<br>8. #18441<br>9. #17762<br>10. #23084<br>11. other</td>\n",
       "      <td id=\"T_5eaa2_row9_col3\" class=\"data row9 col3\" >6 (0.0%)<br>4 (0.0%)<br>4 (0.0%)<br>4 (0.0%)<br>4 (0.0%)<br>4 (0.0%)<br>4 (0.0%)<br>4 (0.0%)<br>4 (0.0%)<br>4 (0.0%)<br>24,220 (99.8%)</td>\n",
       "      <td id=\"T_5eaa2_row9_col4\" class=\"data row9 col4\" ><img src = \"data:image/png;base64, iVBORw0KGgoAAAANSUhEUgAAAJsAAAD+CAYAAAAtWHdlAAAAOXRFWHRTb2Z0d2FyZQBNYXRwbG90bGliIHZlcnNpb24zLjcuMiwgaHR0cHM6Ly9tYXRwbG90bGliLm9yZy8pXeV/AAAACXBIWXMAAA9hAAAPYQGoP6dpAAADLklEQVR4nO3cwY3TYBRG0ecogmFja2QpJUAPKYItvdOFNzCswoIeriVzTgX/4kpPkfxleb1eA4Xb2Q/g/yE2MmIjIzYyYiMjNjJiIyM2MmIjIzYyt2VZvi3L8nb2Q7i+28x8nZnPZz+E63NGyYiNjNjIiI2M2MiIjYzYyIiNjNjIiI2M2MiIjYzYyIiNjNjIiI3MbWZ+zsyfsx/C9S3+xYiKM0pGbGSsq8hYV5FxRsmIjYzYyIiNjNjIiI2M2MiIjYzYyIiNjNjIiI2M2MiIjYzYyBi8kDF4IeOMkhEbGYMXMgYvZJxRMmIjIzYyYiMjNjJiIyM2MmIjIzYyYiMjNjJiIyM2MmIjIzYyBi9kDF7IOKNkxEZGbGSsq8hYV5FxRsmIjYzYyIiNjNjIiI2M2MiIjYzYyIiNjNjIiI2M2MiIjYzYyFhXkbGuIuOMkhEbGYMXMgYvZJxRMmIjIzYyYiMjNjJiIyM2MmIjIzYyYiMjNjJiIyM2MmIjIzYyBi9kDF7IOKNkxEbG4IWMwQsZZ5SM2MiIjYzYyIiNjNjIiI2M2MiIjYzYyIiNjNjIiI2M2MiIjYzYyFhXkbGuIuOMkhEbGesqMtZVZJxRMmIjIzYyYiMjNjJiIyM2MmIjIzYyYiMjNjJiIyM2MmIjIzYyBi9kDF7IOKNkxEbG4IWMwQsZZ5SM2MiIjYzYyIiNjNjIiI2M2MiIjYzYyIiNjNjIiI2M2MiIjYzBCxmDFzLOKBmxkREbGesqMtZVZJxRMmIjIzYyYiMjNjJiIyM2MmIjIzYyYiMjNjJiIyM2MmIjIzYy1lVkrKvIOKNkxEbG4IWMwQsZZ5SM2MiIjYzYyIiNjNjIiI2M2MiIjYzYyIiNjNjIiI2M2MiIjYzBCxmDFzLOKJllZr7MzKezH8L13fd9/76u6/vZD+H67uu6vj+fz9/btn2c/Riu6ziOt/vMzLZtH4/H49fZD+La/EAgIzYyYiMjNjJiIyM2MmIjIzYyYiMjNjJiIyM2MmIjc5/59/nH2Q/h2o7jeFv2ff/h40kKPgsnY11Fxg8EMmIjIzYyYiMjNjJiIyM2MmIjIzYyfwFj50uCzHpkKgAAAABJRU5ErkJggg==\"></img></td>\n",
       "      <td id=\"T_5eaa2_row9_col5\" class=\"data row9 col5\" >0<br>(0.0%)</td>\n",
       "    </tr>\n",
       "    <tr>\n",
       "      <td id=\"T_5eaa2_row10_col0\" class=\"data row10 col0\" >11</td>\n",
       "      <td id=\"T_5eaa2_row10_col1\" class=\"data row10 col1\" ><strong>rank</strong><br>[object]</td>\n",
       "      <td id=\"T_5eaa2_row10_col2\" class=\"data row10 col2\" >1. nan<br>2. #5001<br>3. #4030<br>4. #4032<br>5. #14601<br>6. #9376<br>7. #4989<br>8. #4036<br>9. #4997<br>10. #4043<br>11. other</td>\n",
       "      <td id=\"T_5eaa2_row10_col3\" class=\"data row10 col3\" >4,065 (16.8%)<br>2 (0.0%)<br>2 (0.0%)<br>2 (0.0%)<br>2 (0.0%)<br>2 (0.0%)<br>2 (0.0%)<br>2 (0.0%)<br>2 (0.0%)<br>2 (0.0%)<br>20,179 (83.2%)</td>\n",
       "      <td id=\"T_5eaa2_row10_col4\" class=\"data row10 col4\" ><img src = \"data:image/png;base64, iVBORw0KGgoAAAANSUhEUgAAAJsAAAD+CAYAAAAtWHdlAAAAOXRFWHRTb2Z0d2FyZQBNYXRwbG90bGliIHZlcnNpb24zLjcuMiwgaHR0cHM6Ly9tYXRwbG90bGliLm9yZy8pXeV/AAAACXBIWXMAAA9hAAAPYQGoP6dpAAAD0klEQVR4nO3cwU0jWRhG0b+QxTQbWxYSIczkQBAdbAfhICYHZLkWDcPGs+gY6trdnBMArySu9CipPpbr9TpQeLj1A/B1iI2M2MiIjYzYyIiNjNjIiI2M2MgsM/M0M4/BWZ/X6/U9OIc7tXt+fv6+3++PWx+0rut5WZYfgvu6dvv9/vj6+vp+OBw+tjrkcrl8O51Ox7e3t8eZEdsXtZuZORwOHy8vLz83Putp45/PnfOCQEZsZMRGRmxkxEZGbGTERkZsZMRGRmxkxEZGbGTERkZsZHYzv7432/KQrX8+v4fduq7n0+l0nI2/N1vX9Twzn1uewX2zQSCz+JdZVLwgkHlYluWfZVn8Ac/mHmbm75n569YPwp/PNUpGbGTERkZsZMRGRmxkxEZGbGTERkZsZMRGRmxkxEZGbGTERuZhZv6dmf9u/SD8+WwQyLhGyYiNjMELGYMXMq5RMmIjIzYyYiMjNjJiIyM2MmIjIzYyYiMjNjJiIyM2MmIjIzYyBi9kDF7IuEbJiI2M2MhYV5GxriLjGiUjNjJiIyM2MmIjIzYyYiMjNjJiIyM2MmIjIzYyYiMjNjJiI2NdRca6ioxrlIzYyBi8kDF4IeMaJSM2MmIjIzYyYiMjNjJiIyM2MmIjIzYyYiMjNjJiIyM2MmIjY/BCxuCFjGuUjNjIGLyQMXgh4xolIzYyYiMjNjJiIyM2MmIjIzYyYiMjNjJiIyM2MmIjIzYyYiMjNjLWVWSsq8i4RsmIjYx1FRnrKjKuUTJiIyM2MmIjIzYyYiMjNjJiIyM2MmIjIzYyYiMjNjJiIyM2MgYvZAxeyLhGyYiNjMELGYMXMq5RMmIjIzYyYiMjNjJiIyM2MmIjIzYyYiMjNjJiIyM2MmIjIzYyBi9kDF7IuEbJiI2M2MhYV5GxriLjGiUjNjJiIyM2MmIjIzYyYiMjNjJiIyM2MmIjIzYyYiMjNjJiI2NdRca6ioxrlIzYyBi8kDF4IeMaJSM2MmIjIzYyYiMjNjJiIyM2MmIjIzYyYiMjNjJiIyM2MmIjY/BCxuCFjGuUzDIzTzPzeOsH4aY+r9fr+9aH7J6fn7/v9/vj1gdxv9Z1PS/L8mPr4Hb7/f74+vr6fjgcPrY8iPt0uVy+nU6n49vb2+PMbBvbzMzhcPh4eXn5ueVB3LWn4hAvCGTERkZsZMRGRmxkxEZGbGTERkZsZMRGRmxkxEZGbGR2M78+M7n1g3Ab5e9+t67r+XQ6HSf6zIT7s67reWY+tz7HZ+HMRJ+FW1eR8YJARmxkxEZGbGTERkZsZMRGRmxkxEbmf4BdnjSv+7BFAAAAAElFTkSuQmCC\"></img></td>\n",
       "      <td id=\"T_5eaa2_row10_col5\" class=\"data row10 col5\" >4,065<br>(16.8%)</td>\n",
       "    </tr>\n",
       "    <tr>\n",
       "      <td id=\"T_5eaa2_row11_col0\" class=\"data row11 col0\" >12</td>\n",
       "      <td id=\"T_5eaa2_row11_col1\" class=\"data row11 col1\" ><strong>score</strong><br>[float64]</td>\n",
       "      <td id=\"T_5eaa2_row11_col2\" class=\"data row11 col2\" >Mean (sd) : 6.4 (0.9)<br>min < med < max:<br>1.9 < 6.4 < 9.1<br>IQR (CV) : 1.3 (7.0)</td>\n",
       "      <td id=\"T_5eaa2_row11_col3\" class=\"data row11 col3\" >564 distinct values</td>\n",
       "      <td id=\"T_5eaa2_row11_col4\" class=\"data row11 col4\" ><img src = \"data:image/png;base64, iVBORw0KGgoAAAANSUhEUgAAAKoAAABGCAYAAABc8A97AAAAOXRFWHRTb2Z0d2FyZQBNYXRwbG90bGliIHZlcnNpb24zLjcuMiwgaHR0cHM6Ly9tYXRwbG90bGliLm9yZy8pXeV/AAAACXBIWXMAAA9hAAAPYQGoP6dpAAACd0lEQVR4nO3dvY7aQBSG4W/CsjEQ2QIk6LiBSCko6dPmYnMJKShScwd0CIRAOGthDKkSaaXND7Znd87offrBLt6CsZmDu91uAkL37q1vAPgfD299A3jOOdeT9NjgI8632+2prfsJBaEGxDnXG4/HX9I0Hdb9jOPxuHfOfY0tVkINy2OapsPFYvGUZVlx7+LD4ZAsl8vhbrd7lESo8CvLsmIymfyoubzX6s0Egs0UTCBUmECoMIFQYQKhwgRChQmEChN4jupBg9eg6fV67bZ9PzEg1JY1eQ1almVSVdXHoii+Sar7wD9KhNq+2q9B1+v1cLVa9S+XS8fXzVlFqJ7UeQ263++jfP3ZBjZTMIFQYQKhwgS+o0amqqqupNQ5V2d5sKcDCDUieZ53y7L8NJvNOp1O5+4fXod8OoBQI3I+nx+SJOnP5/NiOp3u71kb+ukAQo3QYDCoe0Ig2MdjbKZgAqHCBEKFCYQKEwgVJhAqTCBUmECoMIFQYQKhwgRChQmEChMIFSYQKkwgVJhAqDCBUGECv/D/A+ZHhYVQX8D8qPAQ6suYHxUYQv0L5keFg80UTCBUmECoMIFQYQKhwgRChQmEChMIFSbwwB+/NRwCLHkcBEyokNR8CLDkdxAwoUJSsyHAkv9BwISKZxoMAZY8DgJmMwUTCBUmECpMIFSYQKgwgVBhQrSPpxqcIpU4SRqcKENtcopU4iRpiKIMVQ1OkUqcJA1RrKFKqneKVOIkaV0+/9k66lDxenz/s3XQoTJWxw7f/2z9z1Cdc4mk9/dcuCXJaDT6nGXZh3sX/toMbbfb73UufDqdEknK8zzZbDZ9C2tDubYvPwFU3THHMDlgVAAAAABJRU5ErkJggg==\"></img></td>\n",
       "      <td id=\"T_5eaa2_row11_col5\" class=\"data row11 col5\" >8,968<br>(37.0%)</td>\n",
       "    </tr>\n",
       "    <tr>\n",
       "      <td id=\"T_5eaa2_row12_col0\" class=\"data row12 col0\" >13</td>\n",
       "      <td id=\"T_5eaa2_row12_col1\" class=\"data row12 col1\" ><strong>members</strong><br>[object]</td>\n",
       "      <td id=\"T_5eaa2_row12_col2\" class=\"data row12 col2\" >1. 39<br>2. 38<br>3. 41<br>4. 43<br>5. 42<br>6. 37<br>7. 40<br>8. 36<br>9. 44<br>10. 48<br>11. other</td>\n",
       "      <td id=\"T_5eaa2_row12_col3\" class=\"data row12 col3\" >156 (0.6%)<br>148 (0.6%)<br>143 (0.6%)<br>135 (0.6%)<br>131 (0.5%)<br>126 (0.5%)<br>122 (0.5%)<br>121 (0.5%)<br>105 (0.4%)<br>98 (0.4%)<br>22,977 (94.7%)</td>\n",
       "      <td id=\"T_5eaa2_row12_col4\" class=\"data row12 col4\" ><img src = \"data:image/png;base64, iVBORw0KGgoAAAANSUhEUgAAAJsAAAD+CAYAAAAtWHdlAAAAOXRFWHRTb2Z0d2FyZQBNYXRwbG90bGliIHZlcnNpb24zLjcuMiwgaHR0cHM6Ly9tYXRwbG90bGliLm9yZy8pXeV/AAAACXBIWXMAAA9hAAAPYQGoP6dpAAADfElEQVR4nO3cwWoaUQCG0WuQ0GxGRPBhfIg8bB/CtxFxFk3Ixi5qd60JNP2k9pxVoZtZfIzTy/27OJ/PAwoPt34A/h9iIyM2MmIjIzYyYiMjNjJiIyM2MosxxtMYY5zP55cbPwt3brnZbJ7HGGOxWHwVHH/TwzRN62ma1mOMx1s/DPfNNxsZsZERGxmxkREbGbGRERsZsZERGxmxkREbGbGRERsZsZERGxmxkVnO83y8/Pntpk/C3bNBILPwX2ZR8WYjY11FxrqKjKMPMmIjIzYyYiMjNjJiIyM2MmIjIzYyYiMjNjJiIyM2MmIjIzYyBi9kXAsnY/BCxpuNjMELGYMXMo4+yIiNjNjIiI2M2MiIjYzYyIiNjNjIiI2M2MiIjYzYyIiNjNjIGLyQcS2cjMELGd9sZPyMkrGuImNdRcY3GxmxkREbGbGRERsZsZERGxmxkREbGbGRERsZsZERGxmxkREbGesqMq6Fk7GuIuPNRsbghYzBCxlHH2TERkZsZMRGRmxkxEZGbGTERkZsZMRGRmxkxEZGbGTERkZsZAxeyLgWTsbghYw3GxmDFzIGL2QcfZARGxmxkREbGbGRERsZsZERGxmxkREbGbGRERsZsZERGxmxkREbGesqMjYIZKyryHizkbGuImNdRcbRBxmxkREbGbGRERsZsZERGxmxkREbGbGRERsZsZERGxmxkREbGYMXMq6FkzF4IePNRsbghYzBCxlHH2TERkZsZMRGRmxkxEZGbGTERkZsZMRGRmxkxEZGbGTERkZsZAxeyLgWTsbghYxvNjJ+RslYV5GxriLjm42M2MiIjYzYyIiNjNjIiI2M2MiIjYzYyIiNjNjIiI2M2MiIjYx1FRnXwslYV5HxZiNj8ELG4IWMow8yYiMjNjJiIyM2MmIjIzYyYiMjNjJiIyM2MmIjIzYyYiMjNjIGL2RcCydj8ELm55vNlXA+w9u1X8jlZrN5vmwQ4I/M83y8NpxaTtO03u12L6vV6rV+OO7H6XT6st/v14fD4XGM8evYxhhjtVq9brfbb+nTcY+erv2lczYyYiMjNjJiIyM2MmIjIzYyYiMjNjJiIyM2MmIjIzYyyzF+XA+59YPwb/tIQ8t5no/7/X493rkeAu+5jKd+O5xyLZzPdPVauMELGf9AICM2MmIjIzYyYiMjNjJiIyM2MmIj8x0gQBAnkyXa7AAAAABJRU5ErkJggg==\"></img></td>\n",
       "      <td id=\"T_5eaa2_row12_col5\" class=\"data row12 col5\" >0<br>(0.0%)</td>\n",
       "    </tr>\n",
       "    <tr>\n",
       "      <td id=\"T_5eaa2_row13_col0\" class=\"data row13 col0\" >14</td>\n",
       "      <td id=\"T_5eaa2_row13_col1\" class=\"data row13 col1\" ><strong>synopsis</strong><br>[object]</td>\n",
       "      <td id=\"T_5eaa2_row13_col2\" class=\"data row13 col2\" >1. No synopsis information has be<br>2. No synopsis has been added for<br>3. Film by Takashi Ito.<br>4. Furukawa Taku film.<br>5. A short film by Okamoto Tadana<br>6. A short animation by Taku Furu<br>7. Short animation by Rapparu.<br>8. Short film by Hirano Ryou.<br>9.  <br>10. Short film by Kurosaka Keita.<br>11. other</td>\n",
       "      <td id=\"T_5eaa2_row13_col3\" class=\"data row13 col3\" >4,391 (18.1%)<br>26 (0.1%)<br>12 (0.0%)<br>12 (0.0%)<br>7 (0.0%)<br>7 (0.0%)<br>6 (0.0%)<br>6 (0.0%)<br>6 (0.0%)<br>6 (0.0%)<br>19,783 (81.5%)</td>\n",
       "      <td id=\"T_5eaa2_row13_col4\" class=\"data row13 col4\" ><img src = \"data:image/png;base64, iVBORw0KGgoAAAANSUhEUgAAAJsAAAD+CAYAAAAtWHdlAAAAOXRFWHRTb2Z0d2FyZQBNYXRwbG90bGliIHZlcnNpb24zLjcuMiwgaHR0cHM6Ly9tYXRwbG90bGliLm9yZy8pXeV/AAAACXBIWXMAAA9hAAAPYQGoP6dpAAADyElEQVR4nO3cwWkjWRhG0b+M8LQ3JYRAIczk4CA62A5CQUwOQqgWbY83mkXH0FemfU4Cr0AXngvq83K/3wcKT49+AL4OsZERGxmxkREbGbGRERsZsZERG5llZl5m5jk88+N+v7+F5/FJ7I7H4/d1XQ/Vgdu2XZdl+SG4r2e3ruvh9fX1bb/fv//uw26327fz+Xy4XC7PMyO2L2Y3M7Pf799Pp9PP6MyX6Bw+GS8IZMRGRmxkxEZGbGTERkZsZMRGRmxkxEZGbGTERkZsZMRGZjfz6zuz4rDqHD6n3bZt1/P5fJjoO7Nt264z81Gcxedig0Bm8S+zqHhBIPO0LMs/y7L4w53f7mlm/p6Zvx79IPz5XKNkxEZGbGTERkZsZMRGRmxkxEZGbGTERkZsZMRGRmxkxEZGbGSeZubfmfnv0Q/Cn88GgYxrlIzYyBi8kDF4IeMaJSM2MmIjIzYyYiMjNjJiIyM2MmIjIzYyYiMjNjJiIyM2MmIjY/BCxuCFjGuUjNjIiI2MdRUZ6yoyrlEyYiMjNjJiIyM2MmIjIzYyYiMjNjJiIyM2MmIjIzYyYiMjNjLWVWSsq8i4RsmIjYzBCxmDFzKuUTJiIyM2MmIjIzYyYiMjNjJiIyM2MmIjIzYyYiMjNjJiIyM2MgYvZAxeyLhGyYiNjMELGYMXMq5RMmIjIzYyYiMjNjJiIyM2MmIjIzYyYiMjNjJiIyM2MmIjIzYyYiNjXUXGuoqMa5SM2MhYV5GxriLjGiUjNjJiIyM2MmIjIzYyYiMjNjJiIyM2MmIjIzYyYiMjNjJiI2PwQsbghYxrlIzYyBi8kDF4IeMaJSM2MmIjIzYyYiMjNjJiIyM2MmIjIzYyYiMjNjJiIyM2MmIjY/BCxuCFjGuUjNjIiI2MdRUZ6yoyrlEyYiMjNjJiIyM2MmIjIzYyYiMjNjJiIyM2MmIjIzYyYiMjNjLWVWSsq8i4RsmIjYzBCxmDFzKuUTJiIyM2MmIjIzYyYiMjNjJiIyM2MmIjIzYyYiMjNjJiIyM2MgYvZAxeyLhGySwz8zIzz49+EHIf9/v9rTxwdzwev6/reigP5fG2bbsuy/KjDG63ruvh9fX1bb/fv1eH8li32+3b+Xw+XC6X55npYpuZ2e/376fT6Wd1KJ/CS32gFwQyYiMjNjJiIyM2MmIjIzYyYiMjNjJiIyM2MmIjIzYyu5lfn5w8+kHoPOr33m3bdj2fz4d5wCcnPM62bdeZ+SjP9Fn415V/Fm5dRcYLAhmxkREbGbGRERsZsZERGxmxkREbmf8BDCieNH/jG2MAAAAASUVORK5CYII=\"></img></td>\n",
       "      <td id=\"T_5eaa2_row13_col5\" class=\"data row13 col5\" >0<br>(0.0%)</td>\n",
       "    </tr>\n",
       "    <tr>\n",
       "      <td id=\"T_5eaa2_row14_col0\" class=\"data row14 col0\" >15</td>\n",
       "      <td id=\"T_5eaa2_row14_col1\" class=\"data row14 col1\" ><strong>aired</strong><br>[object]</td>\n",
       "      <td id=\"T_5eaa2_row14_col2\" class=\"data row14 col2\" >1. Not available<br>2. 2012 to ?<br>3. 2005<br>4. 2011 to ?<br>5. 2010 to ?<br>6. 2011<br>7. 2019 to ?<br>8. 2010<br>9. 2019<br>10. 2013 to ?<br>11. other</td>\n",
       "      <td id=\"T_5eaa2_row14_col3\" class=\"data row14 col3\" >872 (3.6%)<br>76 (0.3%)<br>75 (0.3%)<br>74 (0.3%)<br>72 (0.3%)<br>65 (0.3%)<br>65 (0.3%)<br>65 (0.3%)<br>64 (0.3%)<br>64 (0.3%)<br>22,770 (93.9%)</td>\n",
       "      <td id=\"T_5eaa2_row14_col4\" class=\"data row14 col4\" ><img src = \"data:image/png;base64, iVBORw0KGgoAAAANSUhEUgAAAJsAAAD+CAYAAAAtWHdlAAAAOXRFWHRTb2Z0d2FyZQBNYXRwbG90bGliIHZlcnNpb24zLjcuMiwgaHR0cHM6Ly9tYXRwbG90bGliLm9yZy8pXeV/AAAACXBIWXMAAA9hAAAPYQGoP6dpAAAD20lEQVR4nO3cQWojVxhG0b+McNoTCWHwEpI9eBG92F6EFpE9GKEatB1PlEHTEEyIO+Bc0co5M0savMGFR0F9Xs7n80Dh5tIH4P9DbGTERkZsZMRGRmxkxEZGbGTERmaZmbuZuf2b717P5/NzfB6u2Ob+/v7zdrvdv/1iXdfjsixfBMdH2Wy32/3j4+Pzbrd7+f7h6XT6dDgc9k9PT7czIzY+xGZmZrfbvTw8PHx9893dBc7DFfOAQEZsZMRGRmxkxEZGbGTERkZsZMRGRmxkxEZGbGTERkZsZDYz395f++uHb/+Gj7BZ1/V4OBz28+b9tXVdjzPzepljcY1sEMgs/mUWFQ8IZG6WZfltWRYPBPznbmbm15n55dIH4fq5RsmIjYzYyIiNjNjIiI2M2MiIjYzYyIiNjNjIiI2M2MiIjYzYyNzMzO8z88elD8L1s0Eg4xolIzYyBi9kDF7IuEbJiI2M2MiIjYzYyIiNjNjIiI2M2MiIjYzYyIiNjNjIiI2M2MgYvJAxeCHjGiUjNjJiI2NdRca6ioxrlIzYyIiNjNjIiI2M2MiIjYzYyIiNjNjIiI2M2MiIjYzYyIiNjHUVGesqMq5RMmIjY/BCxuCFjGuUjNjIiI2M2MiIjYzYyIiNjNjIiI2M2MiIjYzYyIiNjNjIiI2MwQsZgxcyrlEyYiNj8ELG4IWMa5SM2MiIjYzYyIiNjNjIiI2M2MiIjYzYyIiNjNjIiI2M2MiIjYzYyFhXkbGuIuMaJSM2MtZVZKyryLhGyYiNjNjIiI2M2MiIjYzYyIiNjNjIiI2M2MiIjYzYyIiNjNjIGLyQMXgh4xolIzYyBi9kDF7IuEbJiI2M2MiIjYzYyIiNjNjIiI2M2MiIjYzYyIiNjNjIiI2M2MgYvJAxeCHjGiUjNjJiI2NdRca6ioxrlIzYyIiNjNjIiI2M2MiIjYzYyIiNjNjIiI2M2MiIjYzYyIiNjHUVGesqMq5RMmIjY/BCxuCFjGuUjNjIiI2M2MiIjYzYyIiNjNjIiI2M2MiIjYzYyIiNjNjIiI2MwQsZgxcyrlEyy8zczcztpQ/CT+31fD4/v/ejzf39/eftdrsvTsR1Wtf1uCzLl/eC22y32/3j4+Pzbrd7qQ7H9TidTp8Oh8P+6enpdmb+ObaZmd1u9/Lw8PA1OR3X6O5HfuQBgYzYyIiNjNjIiI2M2MiIjYzYyIiNjNjIiI2M2MiIjcxm5ttrIpc+CD+nf9POZl3X4+Fw2M8PviYCb63repyZ1/d+57VwPsIPvRZuXUXGAwIZsZERGxmxkREbGbGRERsZsZERG5k/Aa9rnjSwq19tAAAAAElFTkSuQmCC\"></img></td>\n",
       "      <td id=\"T_5eaa2_row14_col5\" class=\"data row14 col5\" >0<br>(0.0%)</td>\n",
       "    </tr>\n",
       "    <tr>\n",
       "      <td id=\"T_5eaa2_row15_col0\" class=\"data row15 col0\" >16</td>\n",
       "      <td id=\"T_5eaa2_row15_col1\" class=\"data row15 col1\" ><strong>duration</strong><br>[object]</td>\n",
       "      <td id=\"T_5eaa2_row15_col2\" class=\"data row15 col2\" >1. 24 min. per ep.<br>2. 23 min. per ep.<br>3. 2 min.<br>4. 3 min.<br>5. 4 min.<br>6. 25 min. per ep.<br>7. 5 min. per ep.<br>8. 3 min. per ep.<br>9. Unknown<br>10. 12 min. per ep.<br>11. other</td>\n",
       "      <td id=\"T_5eaa2_row15_col3\" class=\"data row15 col3\" >1,964 (8.1%)<br>1,412 (5.8%)<br>1,126 (4.6%)<br>1,084 (4.5%)<br>941 (3.9%)<br>902 (3.7%)<br>638 (2.6%)<br>615 (2.5%)<br>583 (2.4%)<br>519 (2.1%)<br>14,478 (59.7%)</td>\n",
       "      <td id=\"T_5eaa2_row15_col4\" class=\"data row15 col4\" ><img src = \"data:image/png;base64, iVBORw0KGgoAAAANSUhEUgAAAJsAAAD+CAYAAAAtWHdlAAAAOXRFWHRTb2Z0d2FyZQBNYXRwbG90bGliIHZlcnNpb24zLjcuMiwgaHR0cHM6Ly9tYXRwbG90bGliLm9yZy8pXeV/AAAACXBIWXMAAA9hAAAPYQGoP6dpAAAEDElEQVR4nO3dQWobWQBF0a9gTGciYQxejBbRi+1FaDfGWIM4ZKIMOt3EbdmWOvVvwDpnFkiBCJcvqqgXrQ6Hw4DCp9/9AbgcYiMjNjJiIyM2MmIjIzYyYiMjNjKrMcbnMcb1mdd9OxwOTxM+Dx/Y1e3t7Z/r9frmnIv2+/3DarX6S3Cc42q9Xt9st9unzWbz9ZQLHh8f/9jtdjf39/fXYwyxcbKrMcbYbDZf7+7uvpxx3edJn4cPzA0CGbGRERsZsZERGxmxkREbGbGRERsZsZERGxmxkREbGbGRuRrj73fUTr3gnL8LP7va7/cPu93uZpzxjtp+v38YY3yb97H4iGwQyKz8l1lUTj3ZnGT8spPWVdZULOHddZU1FUs5dV1lTcUv81CXjNjIiI2M2MiIjYzYyIiNjNjIiI2M2MiIjYzYyIiNzLuDFwMXlnLS4MXAhSV4LZyMwQuZ9042JxqLeXPwYujCkl4dvBi6sLT3Bi+GLizGQ10yYiMjNjJiIyM2MmIjIzYyYiMjNjJiIyM2MmIjIzYyrw5eDF1Y2puDF0MXluS1cDIGL2TcIJDxNUrGuoqMdRUZ6yoybhDIiI2M2MiIjYzYyIiNjNjIiI2M2MiIjYzYyIiNjNjIWFeRsa4i47VwMtZVZN462ZxqLOrVwYuxC0s7OngxdmGGtwYvxi4sykNdMmIjIzYyYiMjNjJiIyM2MmIjIzYyYiMjNjJiIyM2MkcHL8YuzPDq4MXYhaV5LZyMwQsZJxsZgxcyBi9kDF7IeKhLRmxkxEZGbGTERkZsZMRGRmxkxEZGbGTERkZsZMRGRmxkrKvIWFeRsUEgY11F5tjJ5kRjihfrKqsqZnm2rrKqYqZj6yqrKqbwUJeM2MiIjYzYyIiNjNjIiI2M2MiIjYzYyIiNjNjIiI3Ms8GLoQszvRi8GLowi9fCyRi8kHGykTF4IWPwQsbghYyHumTERkZsZMRGRmxkxEZGbGTERkZsZMRGRmxkxEZGbGQMXsgYvJDxWjgZgxcybhDI+BolY11FxrqKjHUVGTcIZMRGRmxkxEZGbGTERkZsZMRGRmxkxEZGbGTERkZsZKyryFhXkfFaOBnrKjL/PdmcakzzbPBi7MJMn/4ZvGy326cf0V2/exX8D/8OXn782diFaTzUJSM2MmIjIzYyYiMjNjJiIyM2MmIjIzYyYiMjNjJiI/Ns8AIz/Tx4MXZhKq+FkzF4IXNsysdcF/vt8eIXXpjrkkdFz37h5Xd/mI/u0n9B59gvvDDXxY6KPNQlIzYyYiMjNjJiIyM2MmIjIzYyYiMjNjJiIyM2MmIjY/ASuvR/5xe/8MJclzwq8lp472JfCzd4IeMGgYzYyIiNjNjIiI2M2MiIjYzYyIiNzHfMFkKDXZEkkQAAAABJRU5ErkJggg==\"></img></td>\n",
       "      <td id=\"T_5eaa2_row15_col5\" class=\"data row15 col5\" >0<br>(0.0%)</td>\n",
       "    </tr>\n",
       "    <tr>\n",
       "      <td id=\"T_5eaa2_row16_col0\" class=\"data row16 col0\" >17</td>\n",
       "      <td id=\"T_5eaa2_row16_col1\" class=\"data row16 col1\" ><strong>premiered</strong><br>[object]</td>\n",
       "      <td id=\"T_5eaa2_row16_col2\" class=\"data row16 col2\" >1. Unknown<br>2. ?<br>3. Spring 2017<br>4. Fall 2016<br>5. Spring 2018<br>6. Spring 2016<br>7. Spring 2011<br>8. Fall 2017<br>9. Spring 2006<br>10. Spring 2014<br>11. other</td>\n",
       "      <td id=\"T_5eaa2_row16_col3\" class=\"data row16 col3\" >16,653 (68.6%)<br>2,078 (8.6%)<br>88 (0.4%)<br>83 (0.3%)<br>81 (0.3%)<br>78 (0.3%)<br>73 (0.3%)<br>72 (0.3%)<br>72 (0.3%)<br>72 (0.3%)<br>4,912 (20.2%)</td>\n",
       "      <td id=\"T_5eaa2_row16_col4\" class=\"data row16 col4\" ><img src = \"data:image/png;base64, iVBORw0KGgoAAAANSUhEUgAAAJsAAAD+CAYAAAAtWHdlAAAAOXRFWHRTb2Z0d2FyZQBNYXRwbG90bGliIHZlcnNpb24zLjcuMiwgaHR0cHM6Ly9tYXRwbG90bGliLm9yZy8pXeV/AAAACXBIWXMAAA9hAAAPYQGoP6dpAAAEH0lEQVR4nO3cwW0bVxhG0X8EQrE2JAgCKiHpQUW4WBfBItKDIGgWluMNs7CzSxzYhu5A9DkNzAN0zScK83m5XC4DhZutD8CvQ2xkxEZGbGTERkZsZMRGRmxkxEZmmZm7mbnd+iD8r8+Xy+Vl60P8jN3pdHq/3++PWx+Eb1vX9WlZlg9vObjdfr8/Pjw8vBwOh09bH4Z/9/z8/O58Ph8fHx9vZ+btxjYzczgcPt3f33/c+jB8093WB/hZviCQERsZsZERGxmxkREbGbGRERsZsZERGxmxkREbGbGRERuZ3cyX96W2Pgj/7Vp+Prt1XZ/O5/NxruB9qWu2ruvTzHze+hw/wwbh7XjzG4TFf5lF5Uc/2d78vzJ6P7SuuoalD73vXlddy9KH3o+uq3xz5bv5oy4ZsZERGxmxkREbGbGRERsZsZERGxmxkREbGbGRERuZ7x68XMv4gt4PDV6uYXxBz2vhZAxeyPzzyTY+qXhtu9Pp9H5mxoCF13az3++PX9dVhsq8Kn9nIyM2MmIjIzYyYiMjNjJiIyM2MmIjIzYyYiMjNjJiIyM2MmIjs/s6XpkxYOGVeS2cjMELGb+zkXGNkrGuImNdRcbvbGTERkZsZMRGRmxkxEZGbGTERkZsZMRGRmxkxEZGbGTERkZsZKyryHgtnIx1FRmfbGQMXsgYvJDxpw8yYiMjNjJiIyM2MmIjIzYyYiMjNjJiIyM2MmIjIzYyYiMjNjIGL2S8Fk7G4IWM39nI3CzL8seyLO+2PgjX72Zmfp+Z37Y+CNfPNUpGbGTERkZsZMRGRmxkxEZGbGTERkZsZMRGRmxkxEZGbGTERkZsZG5m5s+Z+Wvrg3D9DF7IuEbJiI2MdRUZ6yoyrlEyYiMjNjJiIyM2MmIjIzYyYiMjNjJiIyM2MmIjIzYyYiMjNjIGL2QMXsi4RsmIjYzBCxmDFzKuUTJiIyM2MmIjIzYyYiMjNjJiIyM2MmIjIzYyYiMjNjJiIyM2MgYvZAxeyLhGyYiNjNjIWFeRsa4i4xolIzYyYiMjNjJiIyM2MmIjIzYyYiMjNjJiIyM2MmIjIzYyYiNjXUXGuoqMa5SM2MgYvJAxeCHjGiUjNjJiIyM2MmIjIzYyYiMjNjJiIyM2MmIjIzYyYiMjNjJiI2PwQsbghYxrlMwyM3czc7vR8z9fLpeXjZ5NbHc6nd7v9/vjFg9f1/VpWZYPgvs17Pb7/fHh4eHlcDh8Kh/8/Pz87nw+Hx8fH29nRmy/gN3MzOFw+HR/f/9xg+ffbfBMNuILAhmxkREbGbGRERsZsZERGxmxkREbGbGRERsZsZERG5ndzJfXfeoHb/FMtrVb1/XpfD4fZ4PXfdZ1fZqZz/Vz2YbXwslYV5HxBYGM2MiIjYzYyIiNjNjIiI2M2MiIjczfbaH+2qfn5awAAAAASUVORK5CYII=\"></img></td>\n",
       "      <td id=\"T_5eaa2_row16_col5\" class=\"data row16 col5\" >0<br>(0.0%)</td>\n",
       "    </tr>\n",
       "    <tr>\n",
       "      <td id=\"T_5eaa2_row17_col0\" class=\"data row17 col0\" >18</td>\n",
       "      <td id=\"T_5eaa2_row17_col1\" class=\"data row17 col1\" ><strong>studios</strong><br>[object]</td>\n",
       "      <td id=\"T_5eaa2_row17_col2\" class=\"data row17 col2\" >1. None found, add some<br>2. Toei Animation<br>3. Sunrise<br>4. J.C.Staff<br>5. Madhouse<br>6. Shanghai Animation Film Studio<br>7. TMS Entertainment<br>8. Studio Deen<br>9. Production I.G<br>10. Pierrot<br>11. other</td>\n",
       "      <td id=\"T_5eaa2_row17_col3\" class=\"data row17 col3\" >10,251 (42.3%)<br>837 (3.4%)<br>535 (2.2%)<br>379 (1.6%)<br>335 (1.4%)<br>334 (1.4%)<br>320 (1.3%)<br>290 (1.2%)<br>269 (1.1%)<br>264 (1.1%)<br>10,448 (43.1%)</td>\n",
       "      <td id=\"T_5eaa2_row17_col4\" class=\"data row17 col4\" ><img src = \"data:image/png;base64, iVBORw0KGgoAAAANSUhEUgAAAJsAAAD+CAYAAAAtWHdlAAAAOXRFWHRTb2Z0d2FyZQBNYXRwbG90bGliIHZlcnNpb24zLjcuMiwgaHR0cHM6Ly9tYXRwbG90bGliLm9yZy8pXeV/AAAACXBIWXMAAA9hAAAPYQGoP6dpAAAEKklEQVR4nO3dQW4TWQBF0R/LSuNJWVakLCML8CJ6sb0ILyD7iKLUAKeZuAfQUWhg1nULxefMmH3QpaIq/Qc3l8tlQGGz9gG4HmIjIzYyYiMjNjJiIyM2MmIjIzYyN2OM3Rjjdu2DrOzL5XI5r32Ij257d3f35zRNh7UPsqZ5np9vbm7+EtyyttM0HY7H43m/37+ufZg1vLy8fDqdToenp6fbMYbYFrQdY4z9fv96f3//ee3DrGi39gGugRcEMmIjIzYyYiMjNjJiIyM2MmIjIzYyYiMjNjJiIyM2MmIjsx3j652utQ+ylmv+vde28zw/n06nw7jiO13zPD+PMb6sfY6PzgbhKxuEwI1/MovKr55s/qbzv/vpusraiCX8sK6yNmIpv1pXXe2bKcvxUZeM2MiIjYzYyIiNjNjIiI2M2MiIjYzYyIiNjNjIiI3MD4MXAxCW8tPBiwEIS3AtnIzBC5n/Ptk80VjMd4MXQxeWtPl38HI8Hs/forv2wTILeRu8fPu1oQuL8VGXjNjIiI2M2MiIjYzYyIiNjNjIiI2M2MiIjYzYyIiNzNX/Dy903g9eDF1YlGvhZAxeyHhBIPP+x6gfoSzqbV1lWcXSNtM0HR4eHoZlFUvbjDHGbrf7e+2D8PF5QSAjNjJiIyM2MmIjIzYyYiMjNjJiIyM2MmIjIzYyYiOzGWOM8/n8x9oH4ePbzPP8/Pj4aFnF4lwLJ2NdRcaTjYzBCxmDFzIGL2R81CUjNjJiIyM2MmIjIzYyYiMjNjJiIyM2MmIjIzYyYiNj8ELG4IWMa+FkDF7IeLKRMXghY/BCxuCFjI+6ZMRGRmxkxEZGbGTERkZsZMRGRmxkxEZGbGTERkZsZMRGxrqKjHUVGRsEMtZVZDzZyFhXkbGuImNdRcZHXTJiIyM2MmIjIzYyYiMjNjJiIyM2MmIjIzYyYiMjNjIGL2QMXsi4Fk7G4IWMJxsZgxcyBi9kDF7I+KhLRmxkxEZGbGTERkZsZMRGRmxkxEZGbGTERkZsZMRGxuCFjMELGdfCyRi8kPGCQMaPUTLWVWSsq8hYV5HxgkBGbGTERkZsZMRGRmxkxEZGbGTERkZsZMRGRmxkxEbGuoqMdRUZ18LJWFeR8WQjY/BCxuCFjMELGR91yYiNjNjIiI2M2MiIjYzYyIiNjNjIiI2M2MiIjYzYyBi8kDF4IeNaOBmDFzLvn2x4ui/qbfCy9kF+B0Y/y9pO03Q4Ho/n/X7/uvZh1vTy8vLpdDodnp6ebscYYlvAdowx9vv96/39/ee1D/Mb2K19gI/MR10yYiMjNjJiIyM2MmIjIzYyYiMjNjJiIyM2MmIjIzYy2zG+Xq9Z+yBr82ewvO08z8+n0+kwXK8x+lmYa+Hfcy18QQYvZLwgkBEbGbGRERsZsZERGxmxkREbGbGR+QfEtNi3wB26TQAAAABJRU5ErkJggg==\"></img></td>\n",
       "      <td id=\"T_5eaa2_row17_col5\" class=\"data row17 col5\" >0<br>(0.0%)</td>\n",
       "    </tr>\n",
       "  </tbody>\n",
       "</table>\n"
      ],
      "text/plain": [
       "<pandas.io.formats.style.Styler at 0x79aa5845c790>"
      ]
     },
     "execution_count": 6,
     "metadata": {},
     "output_type": "execute_result"
    }
   ],
   "source": [
    "!pip install summarytools\n",
    "from summarytools import dfSummary\n",
    "dfSummary(anime)"
   ]
  },
  {
   "cell_type": "code",
   "execution_count": 7,
   "id": "518ac83b",
   "metadata": {
    "execution": {
     "iopub.execute_input": "2023-07-26T19:56:34.424501Z",
     "iopub.status.busy": "2023-07-26T19:56:34.423152Z",
     "iopub.status.idle": "2023-07-26T19:56:34.430753Z",
     "shell.execute_reply": "2023-07-26T19:56:34.429476Z"
    },
    "papermill": {
     "duration": 0.020604,
     "end_time": "2023-07-26T19:56:34.433299",
     "exception": false,
     "start_time": "2023-07-26T19:56:34.412695",
     "status": "completed"
    },
    "tags": []
   },
   "outputs": [
    {
     "name": "stdout",
     "output_type": "stream",
     "text": [
      "['genres', 'theme', 'demographic', 'synopsis', 'type']\n"
     ]
    }
   ],
   "source": [
    "features=['genres','theme','demographic','synopsis','type']\n",
    "print(features)"
   ]
  },
  {
   "cell_type": "code",
   "execution_count": 8,
   "id": "9768cb14",
   "metadata": {
    "execution": {
     "iopub.execute_input": "2023-07-26T19:56:34.453872Z",
     "iopub.status.busy": "2023-07-26T19:56:34.453369Z",
     "iopub.status.idle": "2023-07-26T19:56:34.500822Z",
     "shell.execute_reply": "2023-07-26T19:56:34.499424Z"
    },
    "papermill": {
     "duration": 0.061093,
     "end_time": "2023-07-26T19:56:34.503797",
     "exception": false,
     "start_time": "2023-07-26T19:56:34.442704",
     "status": "completed"
    },
    "tags": []
   },
   "outputs": [],
   "source": [
    "for ani in features:\n",
    "    anime[ani]=anime[ani].fillna('')\n",
    "   "
   ]
  },
  {
   "cell_type": "code",
   "execution_count": 9,
   "id": "909d8a11",
   "metadata": {
    "execution": {
     "iopub.execute_input": "2023-07-26T19:56:34.525072Z",
     "iopub.status.busy": "2023-07-26T19:56:34.524032Z",
     "iopub.status.idle": "2023-07-26T19:56:34.587874Z",
     "shell.execute_reply": "2023-07-26T19:56:34.586150Z"
    },
    "papermill": {
     "duration": 0.077401,
     "end_time": "2023-07-26T19:56:34.590757",
     "exception": false,
     "start_time": "2023-07-26T19:56:34.513356",
     "status": "completed"
    },
    "tags": []
   },
   "outputs": [
    {
     "name": "stdout",
     "output_type": "stream",
     "text": [
      "0        Action,Adventure,Drama,Fantasy, Military Shoun...\n",
      "1        Drama,Sci-Fi,Suspense, Unknown Unknown Eccentr...\n",
      "2        Action,Adventure,Fantasy, Unknown Shounen Subs...\n",
      "3        Action,Comedy,Sci-Fi, Unknown Shounen Gintoki,...\n",
      "4        Comedy,Romance, School Seinen The elite member...\n",
      "                               ...                        \n",
      "24257    Hentai, Unknown Unknown In which the act of ra...\n",
      "24258    Hentai, Unknown Unknown Based off the eroge by...\n",
      "24259    Hentai, Unknown Unknown Sister Rosaria is work...\n",
      "24260    Hentai, Unknown Unknown There are nine men and...\n",
      "24261    Drama,Romance,Hentai, Unknown Unknown Yusuke's...\n",
      "Length: 24262, dtype: object\n"
     ]
    }
   ],
   "source": [
    "combined_features=anime['genres']+' '+anime['theme']+' '+anime['demographic']+' '+anime['synopsis']+' '+anime['type']\n",
    "print(combined_features)"
   ]
  },
  {
   "cell_type": "code",
   "execution_count": 10,
   "id": "da5656aa",
   "metadata": {
    "execution": {
     "iopub.execute_input": "2023-07-26T19:56:34.613430Z",
     "iopub.status.busy": "2023-07-26T19:56:34.612992Z",
     "iopub.status.idle": "2023-07-26T19:56:34.617884Z",
     "shell.execute_reply": "2023-07-26T19:56:34.616538Z"
    },
    "papermill": {
     "duration": 0.020331,
     "end_time": "2023-07-26T19:56:34.620341",
     "exception": false,
     "start_time": "2023-07-26T19:56:34.600010",
     "status": "completed"
    },
    "tags": []
   },
   "outputs": [],
   "source": [
    "vectorizer=TfidfVectorizer()"
   ]
  },
  {
   "cell_type": "code",
   "execution_count": 11,
   "id": "261ec115",
   "metadata": {
    "execution": {
     "iopub.execute_input": "2023-07-26T19:56:34.641280Z",
     "iopub.status.busy": "2023-07-26T19:56:34.640852Z",
     "iopub.status.idle": "2023-07-26T19:56:36.925885Z",
     "shell.execute_reply": "2023-07-26T19:56:36.924207Z"
    },
    "papermill": {
     "duration": 2.299152,
     "end_time": "2023-07-26T19:56:36.929125",
     "exception": false,
     "start_time": "2023-07-26T19:56:34.629973",
     "status": "completed"
    },
    "tags": []
   },
   "outputs": [],
   "source": [
    "feature_vectors = vectorizer.fit_transform(combined_features)"
   ]
  },
  {
   "cell_type": "code",
   "execution_count": 12,
   "id": "cf20a5eb",
   "metadata": {
    "execution": {
     "iopub.execute_input": "2023-07-26T19:56:36.952303Z",
     "iopub.status.busy": "2023-07-26T19:56:36.951809Z",
     "iopub.status.idle": "2023-07-26T19:57:16.584406Z",
     "shell.execute_reply": "2023-07-26T19:57:16.583157Z"
    },
    "papermill": {
     "duration": 39.657934,
     "end_time": "2023-07-26T19:57:16.597018",
     "exception": false,
     "start_time": "2023-07-26T19:56:36.939084",
     "status": "completed"
    },
    "tags": []
   },
   "outputs": [
    {
     "name": "stdout",
     "output_type": "stream",
     "text": [
      "[[1.         0.07976103 0.07649965 ... 0.06869925 0.03861332 0.04281262]\n",
      " [0.07976103 1.         0.09168122 ... 0.10087775 0.03525027 0.09895145]\n",
      " [0.07649965 0.09168122 1.         ... 0.05723554 0.01816791 0.06337459]\n",
      " ...\n",
      " [0.06869925 0.10087775 0.05723554 ... 1.         0.06631765 0.07055901]\n",
      " [0.03861332 0.03525027 0.01816791 ... 0.06631765 1.         0.048456  ]\n",
      " [0.04281262 0.09895145 0.06337459 ... 0.07055901 0.048456   1.        ]]\n"
     ]
    }
   ],
   "source": [
    "similarity=cosine_similarity(feature_vectors)\n",
    "print(similarity)"
   ]
  },
  {
   "cell_type": "code",
   "execution_count": 13,
   "id": "67aae722",
   "metadata": {
    "execution": {
     "iopub.execute_input": "2023-07-26T19:57:16.618836Z",
     "iopub.status.busy": "2023-07-26T19:57:16.618410Z",
     "iopub.status.idle": "2023-07-26T19:57:17.295215Z",
     "shell.execute_reply": "2023-07-26T19:57:17.293374Z"
    },
    "papermill": {
     "duration": 0.689836,
     "end_time": "2023-07-26T19:57:17.297169",
     "exception": true,
     "start_time": "2023-07-26T19:57:16.607333",
     "status": "failed"
    },
    "tags": []
   },
   "outputs": [
    {
     "ename": "StdinNotImplementedError",
     "evalue": "raw_input was called, but this frontend does not support input requests.",
     "output_type": "error",
     "traceback": [
      "\u001b[0;31m---------------------------------------------------------------------------\u001b[0m",
      "\u001b[0;31mStdinNotImplementedError\u001b[0m                  Traceback (most recent call last)",
      "Cell \u001b[0;32mIn[13], line 1\u001b[0m\n\u001b[0;32m----> 1\u001b[0m anime_name\u001b[38;5;241m=\u001b[39m\u001b[38;5;28;43minput\u001b[39;49m\u001b[43m(\u001b[49m\u001b[38;5;124;43m\"\u001b[39;49m\u001b[38;5;124;43menter anime name: \u001b[39;49m\u001b[38;5;124;43m\"\u001b[39;49m\u001b[43m)\u001b[49m\n\u001b[1;32m      2\u001b[0m list_of_all_titles \u001b[38;5;241m=\u001b[39m anime[\u001b[38;5;124m'\u001b[39m\u001b[38;5;124mtitle\u001b[39m\u001b[38;5;124m'\u001b[39m]\u001b[38;5;241m.\u001b[39mtolist()\n\u001b[1;32m      4\u001b[0m find_close_match \u001b[38;5;241m=\u001b[39m difflib\u001b[38;5;241m.\u001b[39mget_close_matches(anime_name, list_of_all_titles)\n",
      "File \u001b[0;32m/opt/conda/lib/python3.10/site-packages/ipykernel/kernelbase.py:1190\u001b[0m, in \u001b[0;36mKernel.raw_input\u001b[0;34m(self, prompt)\u001b[0m\n\u001b[1;32m   1188\u001b[0m \u001b[38;5;28;01mif\u001b[39;00m \u001b[38;5;129;01mnot\u001b[39;00m \u001b[38;5;28mself\u001b[39m\u001b[38;5;241m.\u001b[39m_allow_stdin:\n\u001b[1;32m   1189\u001b[0m     msg \u001b[38;5;241m=\u001b[39m \u001b[38;5;124m\"\u001b[39m\u001b[38;5;124mraw_input was called, but this frontend does not support input requests.\u001b[39m\u001b[38;5;124m\"\u001b[39m\n\u001b[0;32m-> 1190\u001b[0m     \u001b[38;5;28;01mraise\u001b[39;00m StdinNotImplementedError(msg)\n\u001b[1;32m   1191\u001b[0m \u001b[38;5;28;01mreturn\u001b[39;00m \u001b[38;5;28mself\u001b[39m\u001b[38;5;241m.\u001b[39m_input_request(\n\u001b[1;32m   1192\u001b[0m     \u001b[38;5;28mstr\u001b[39m(prompt),\n\u001b[1;32m   1193\u001b[0m     \u001b[38;5;28mself\u001b[39m\u001b[38;5;241m.\u001b[39m_parent_ident[\u001b[38;5;124m\"\u001b[39m\u001b[38;5;124mshell\u001b[39m\u001b[38;5;124m\"\u001b[39m],\n\u001b[1;32m   1194\u001b[0m     \u001b[38;5;28mself\u001b[39m\u001b[38;5;241m.\u001b[39mget_parent(\u001b[38;5;124m\"\u001b[39m\u001b[38;5;124mshell\u001b[39m\u001b[38;5;124m\"\u001b[39m),\n\u001b[1;32m   1195\u001b[0m     password\u001b[38;5;241m=\u001b[39m\u001b[38;5;28;01mFalse\u001b[39;00m,\n\u001b[1;32m   1196\u001b[0m )\n",
      "\u001b[0;31mStdinNotImplementedError\u001b[0m: raw_input was called, but this frontend does not support input requests."
     ]
    }
   ],
   "source": [
    "anime_name=input(\"enter anime name: \")\n",
    "list_of_all_titles = anime['title'].tolist()\n",
    "\n",
    "find_close_match = difflib.get_close_matches(anime_name, list_of_all_titles)\n",
    "print(find_close_match)\n",
    "close_match = find_close_match[0]\n",
    "\n",
    "index_of_the_anime = anime[anime.title == close_match]['index'].values[0]\n",
    "\n",
    "similarity_score = list(enumerate(similarity[index_of_the_anime]))\n",
    "\n",
    "sorted_similar_anime = sorted(similarity_score, key = lambda x:x[1], reverse = True)\n",
    "\n",
    "print('anime suggested for you : \\n')\n",
    "\n",
    "i = 1\n",
    "\n",
    "for anim in sorted_similar_anime:\n",
    "    index = anim[0]\n",
    "    title_from_index = anime[anime.index==index]['title'].values[0]\n",
    "    if (i<30):\n",
    "        print(i, '.',title_from_index)\n",
    "        i+=1"
   ]
  }
 ],
 "metadata": {
  "kernelspec": {
   "display_name": "Python 3",
   "language": "python",
   "name": "python3"
  },
  "language_info": {
   "codemirror_mode": {
    "name": "ipython",
    "version": 3
   },
   "file_extension": ".py",
   "mimetype": "text/x-python",
   "name": "python",
   "nbconvert_exporter": "python",
   "pygments_lexer": "ipython3",
   "version": "3.10.12"
  },
  "papermill": {
   "default_parameters": {},
   "duration": 91.656601,
   "end_time": "2023-07-26T19:57:18.834173",
   "environment_variables": {},
   "exception": true,
   "input_path": "__notebook__.ipynb",
   "output_path": "__notebook__.ipynb",
   "parameters": {},
   "start_time": "2023-07-26T19:55:47.177572",
   "version": "2.4.0"
  }
 },
 "nbformat": 4,
 "nbformat_minor": 5
}
